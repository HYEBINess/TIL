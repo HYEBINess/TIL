{
 "cells": [
  {
   "cell_type": "markdown",
   "id": "ahead-differential",
   "metadata": {
    "id": "ahead-differential"
   },
   "source": [
    "# 여행자 보험데이터 \n",
    "## Claim(보험금 청구) 여부 분류"
   ]
  },
  {
   "cell_type": "code",
   "execution_count": 1,
   "id": "gorgeous-restaurant",
   "metadata": {
    "ExecuteTime": {
     "end_time": "2022-11-10T05:45:37.505653Z",
     "start_time": "2022-11-10T05:45:37.160947Z"
    },
    "id": "gorgeous-restaurant"
   },
   "outputs": [],
   "source": [
    "import pandas as pd \n",
    "import warnings\n",
    "warnings.filterwarnings('ignore')"
   ]
  },
  {
   "cell_type": "code",
   "execution_count": 2,
   "id": "combined-patrick",
   "metadata": {
    "ExecuteTime": {
     "end_time": "2022-11-10T05:45:46.057558Z",
     "start_time": "2022-11-10T05:45:45.053166Z"
    },
    "id": "combined-patrick"
   },
   "outputs": [],
   "source": [
    "travel_insurance = pd.read_csv(\"https://raw.githubusercontent.com/fintech-data/Revolution/main/data/travel%20insurance.csv\")"
   ]
  },
  {
   "cell_type": "code",
   "execution_count": 3,
   "id": "relative-candidate",
   "metadata": {
    "ExecuteTime": {
     "end_time": "2022-11-10T05:45:46.816874Z",
     "start_time": "2022-11-10T05:45:46.789506Z"
    },
    "colab": {
     "base_uri": "https://localhost:8080/",
     "height": 250
    },
    "id": "relative-candidate",
    "outputId": "ee56bb03-f131-4c2e-e716-c9884f69bb30"
   },
   "outputs": [
    {
     "data": {
      "text/html": [
       "<div>\n",
       "<style scoped>\n",
       "    .dataframe tbody tr th:only-of-type {\n",
       "        vertical-align: middle;\n",
       "    }\n",
       "\n",
       "    .dataframe tbody tr th {\n",
       "        vertical-align: top;\n",
       "    }\n",
       "\n",
       "    .dataframe thead th {\n",
       "        text-align: right;\n",
       "    }\n",
       "</style>\n",
       "<table border=\"1\" class=\"dataframe\">\n",
       "  <thead>\n",
       "    <tr style=\"text-align: right;\">\n",
       "      <th></th>\n",
       "      <th>Agency</th>\n",
       "      <th>Agency Type</th>\n",
       "      <th>Distribution Channel</th>\n",
       "      <th>Product Name</th>\n",
       "      <th>Claim</th>\n",
       "      <th>Duration</th>\n",
       "      <th>Destination</th>\n",
       "      <th>Net Sales</th>\n",
       "      <th>Commision (in value)</th>\n",
       "      <th>Gender</th>\n",
       "      <th>Age</th>\n",
       "    </tr>\n",
       "  </thead>\n",
       "  <tbody>\n",
       "    <tr>\n",
       "      <th>0</th>\n",
       "      <td>CBH</td>\n",
       "      <td>Travel Agency</td>\n",
       "      <td>Offline</td>\n",
       "      <td>Comprehensive Plan</td>\n",
       "      <td>No</td>\n",
       "      <td>186</td>\n",
       "      <td>MALAYSIA</td>\n",
       "      <td>-29.0</td>\n",
       "      <td>9.57</td>\n",
       "      <td>F</td>\n",
       "      <td>81</td>\n",
       "    </tr>\n",
       "    <tr>\n",
       "      <th>1</th>\n",
       "      <td>CBH</td>\n",
       "      <td>Travel Agency</td>\n",
       "      <td>Offline</td>\n",
       "      <td>Comprehensive Plan</td>\n",
       "      <td>No</td>\n",
       "      <td>186</td>\n",
       "      <td>MALAYSIA</td>\n",
       "      <td>-29.0</td>\n",
       "      <td>9.57</td>\n",
       "      <td>F</td>\n",
       "      <td>71</td>\n",
       "    </tr>\n",
       "    <tr>\n",
       "      <th>2</th>\n",
       "      <td>CWT</td>\n",
       "      <td>Travel Agency</td>\n",
       "      <td>Online</td>\n",
       "      <td>Rental Vehicle Excess Insurance</td>\n",
       "      <td>No</td>\n",
       "      <td>65</td>\n",
       "      <td>AUSTRALIA</td>\n",
       "      <td>-49.5</td>\n",
       "      <td>29.70</td>\n",
       "      <td>NaN</td>\n",
       "      <td>32</td>\n",
       "    </tr>\n",
       "    <tr>\n",
       "      <th>3</th>\n",
       "      <td>CWT</td>\n",
       "      <td>Travel Agency</td>\n",
       "      <td>Online</td>\n",
       "      <td>Rental Vehicle Excess Insurance</td>\n",
       "      <td>No</td>\n",
       "      <td>60</td>\n",
       "      <td>AUSTRALIA</td>\n",
       "      <td>-39.6</td>\n",
       "      <td>23.76</td>\n",
       "      <td>NaN</td>\n",
       "      <td>32</td>\n",
       "    </tr>\n",
       "    <tr>\n",
       "      <th>4</th>\n",
       "      <td>CWT</td>\n",
       "      <td>Travel Agency</td>\n",
       "      <td>Online</td>\n",
       "      <td>Rental Vehicle Excess Insurance</td>\n",
       "      <td>No</td>\n",
       "      <td>79</td>\n",
       "      <td>ITALY</td>\n",
       "      <td>-19.8</td>\n",
       "      <td>11.88</td>\n",
       "      <td>NaN</td>\n",
       "      <td>41</td>\n",
       "    </tr>\n",
       "  </tbody>\n",
       "</table>\n",
       "</div>"
      ],
      "text/plain": [
       "  Agency    Agency Type Distribution Channel                     Product Name  \\\n",
       "0    CBH  Travel Agency              Offline               Comprehensive Plan   \n",
       "1    CBH  Travel Agency              Offline               Comprehensive Plan   \n",
       "2    CWT  Travel Agency               Online  Rental Vehicle Excess Insurance   \n",
       "3    CWT  Travel Agency               Online  Rental Vehicle Excess Insurance   \n",
       "4    CWT  Travel Agency               Online  Rental Vehicle Excess Insurance   \n",
       "\n",
       "  Claim  Duration Destination  Net Sales  Commision (in value) Gender  Age  \n",
       "0    No       186    MALAYSIA      -29.0                  9.57      F   81  \n",
       "1    No       186    MALAYSIA      -29.0                  9.57      F   71  \n",
       "2    No        65   AUSTRALIA      -49.5                 29.70    NaN   32  \n",
       "3    No        60   AUSTRALIA      -39.6                 23.76    NaN   32  \n",
       "4    No        79       ITALY      -19.8                 11.88    NaN   41  "
      ]
     },
     "execution_count": 3,
     "metadata": {},
     "output_type": "execute_result"
    }
   ],
   "source": [
    "travel_insurance.head()"
   ]
  },
  {
   "cell_type": "code",
   "execution_count": 4,
   "id": "subjective-girlfriend",
   "metadata": {
    "ExecuteTime": {
     "end_time": "2022-11-10T05:50:26.938598Z",
     "start_time": "2022-11-10T05:50:26.932552Z"
    },
    "id": "subjective-girlfriend"
   },
   "outputs": [],
   "source": [
    "travel_insurance.rename(columns={ 'Agency Type':'Agency_Type', 'Distribution Channel':'Distribution_Channel', 'Product Name':'Product_Name',\n",
    "       'Net Sales':'Net_Sales', 'Commision (in value)':'Commision_in_value'\n",
    "       },inplace=True)\n"
   ]
  },
  {
   "cell_type": "markdown",
   "id": "danish-criminal",
   "metadata": {
    "id": "danish-criminal"
   },
   "source": [
    "- Agency: str, 보험 판매점\n",
    "- Agency Type: str, 판매점 형태\n",
    "- Distribution Channel: str, 판매 채널\n",
    "- Product Name : str,  판매 상품 종류\n",
    "- Duration: str, 보험기간\n",
    "- Destination: str,  여행국가\n",
    "- Net Sales: int, 순마진\n",
    "- Commision (in value): float, 수수료\n",
    "- Gender: str, 성별\n",
    "- Age: int, 나이\n",
    "- Claim : 보험금 청구\n"
   ]
  },
  {
   "cell_type": "markdown",
   "id": "practical-saver",
   "metadata": {
    "id": "practical-saver"
   },
   "source": [
    "# 1. 데이터 전처리"
   ]
  },
  {
   "cell_type": "code",
   "execution_count": 5,
   "id": "floppy-electronics",
   "metadata": {
    "ExecuteTime": {
     "end_time": "2022-11-10T05:50:37.703155Z",
     "start_time": "2022-11-10T05:50:37.697038Z"
    },
    "colab": {
     "base_uri": "https://localhost:8080/"
    },
    "id": "floppy-electronics",
    "outputId": "ad83ad75-28ac-4723-e3c5-a597dcfc5857"
   },
   "outputs": [
    {
     "data": {
      "text/plain": [
       "(63326, 11)"
      ]
     },
     "execution_count": 5,
     "metadata": {},
     "output_type": "execute_result"
    }
   ],
   "source": [
    "travel_insurance.shape"
   ]
  },
  {
   "cell_type": "code",
   "execution_count": 6,
   "id": "large-style",
   "metadata": {
    "ExecuteTime": {
     "end_time": "2022-11-10T05:50:42.746392Z",
     "start_time": "2022-11-10T05:50:42.660141Z"
    },
    "colab": {
     "base_uri": "https://localhost:8080/"
    },
    "id": "large-style",
    "outputId": "9455b7c6-fd4f-4d28-ca7d-35a603ba5547"
   },
   "outputs": [
    {
     "name": "stdout",
     "output_type": "stream",
     "text": [
      "<class 'pandas.core.frame.DataFrame'>\n",
      "RangeIndex: 63326 entries, 0 to 63325\n",
      "Data columns (total 11 columns):\n",
      " #   Column                Non-Null Count  Dtype  \n",
      "---  ------                --------------  -----  \n",
      " 0   Agency                63326 non-null  object \n",
      " 1   Agency_Type           63326 non-null  object \n",
      " 2   Distribution_Channel  63326 non-null  object \n",
      " 3   Product_Name          63326 non-null  object \n",
      " 4   Claim                 63326 non-null  object \n",
      " 5   Duration              63326 non-null  int64  \n",
      " 6   Destination           63326 non-null  object \n",
      " 7   Net_Sales             63326 non-null  float64\n",
      " 8   Commision_in_value    63326 non-null  float64\n",
      " 9   Gender                18219 non-null  object \n",
      " 10  Age                   63326 non-null  int64  \n",
      "dtypes: float64(2), int64(2), object(7)\n",
      "memory usage: 5.3+ MB\n"
     ]
    }
   ],
   "source": [
    "travel_insurance.info()"
   ]
  },
  {
   "cell_type": "markdown",
   "id": "twelve-netherlands",
   "metadata": {
    "id": "twelve-netherlands"
   },
   "source": [
    "## 1-1. 결측치 제거"
   ]
  },
  {
   "cell_type": "code",
   "execution_count": 7,
   "id": "persistent-kruger",
   "metadata": {
    "ExecuteTime": {
     "end_time": "2022-11-10T05:51:20.746651Z",
     "start_time": "2022-11-10T05:51:20.662427Z"
    },
    "colab": {
     "base_uri": "https://localhost:8080/"
    },
    "id": "persistent-kruger",
    "outputId": "33194b43-67ad-4ca2-b55e-e2e40053fb32"
   },
   "outputs": [
    {
     "data": {
      "text/plain": [
       "Agency                      0\n",
       "Agency_Type                 0\n",
       "Distribution_Channel        0\n",
       "Product_Name                0\n",
       "Claim                       0\n",
       "Duration                    0\n",
       "Destination                 0\n",
       "Net_Sales                   0\n",
       "Commision_in_value          0\n",
       "Gender                  45107\n",
       "Age                         0\n",
       "dtype: int64"
      ]
     },
     "execution_count": 7,
     "metadata": {},
     "output_type": "execute_result"
    }
   ],
   "source": [
    "travel_insurance.isnull().sum() #Gender에 결측치가 매우 많음 "
   ]
  },
  {
   "cell_type": "code",
   "execution_count": 8,
   "id": "refined-gamma",
   "metadata": {
    "ExecuteTime": {
     "end_time": "2022-11-10T05:51:26.162424Z",
     "start_time": "2022-11-10T05:51:26.148338Z"
    },
    "colab": {
     "base_uri": "https://localhost:8080/"
    },
    "id": "refined-gamma",
    "outputId": "a873c653-625c-4b97-8912-e80fe5e15c57"
   },
   "outputs": [
    {
     "data": {
      "text/plain": [
       "array(['F', nan, 'M'], dtype=object)"
      ]
     },
     "execution_count": 8,
     "metadata": {},
     "output_type": "execute_result"
    }
   ],
   "source": [
    "travel_insurance['Gender'].unique() # 성별을 모르는 경우가 매우 많다. "
   ]
  },
  {
   "cell_type": "code",
   "execution_count": 9,
   "id": "cultural-petersburg",
   "metadata": {
    "ExecuteTime": {
     "end_time": "2022-11-10T05:51:40.160192Z",
     "start_time": "2022-11-10T05:51:40.145294Z"
    },
    "id": "cultural-petersburg"
   },
   "outputs": [],
   "source": [
    "# History가 없는 경우 존재 -> NaN 값을 'None'이라는 모른다는 표시의 문자열로 변환 \n",
    "travel_insurance['Gender'] = travel_insurance['Gender'].fillna('None')"
   ]
  },
  {
   "cell_type": "code",
   "execution_count": 10,
   "id": "median-understanding",
   "metadata": {
    "ExecuteTime": {
     "end_time": "2022-11-10T05:52:15.493577Z",
     "start_time": "2022-11-10T05:52:15.410461Z"
    },
    "colab": {
     "base_uri": "https://localhost:8080/"
    },
    "id": "median-understanding",
    "outputId": "5590a074-0e00-4a7d-c942-b1ce4b101fcc"
   },
   "outputs": [
    {
     "data": {
      "text/plain": [
       "Agency                  0\n",
       "Agency_Type             0\n",
       "Distribution_Channel    0\n",
       "Product_Name            0\n",
       "Claim                   0\n",
       "Duration                0\n",
       "Destination             0\n",
       "Net_Sales               0\n",
       "Commision_in_value      0\n",
       "Gender                  0\n",
       "Age                     0\n",
       "dtype: int64"
      ]
     },
     "execution_count": 10,
     "metadata": {},
     "output_type": "execute_result"
    }
   ],
   "source": [
    "travel_insurance.isnull().sum()"
   ]
  },
  {
   "cell_type": "markdown",
   "id": "sustainable-pottery",
   "metadata": {
    "id": "sustainable-pottery"
   },
   "source": [
    "## 1-2. 이상치 탐지"
   ]
  },
  {
   "cell_type": "code",
   "execution_count": 11,
   "id": "insured-dream",
   "metadata": {
    "ExecuteTime": {
     "end_time": "2022-11-10T05:52:22.318748Z",
     "start_time": "2022-11-10T05:52:22.280804Z"
    },
    "colab": {
     "base_uri": "https://localhost:8080/",
     "height": 300
    },
    "id": "insured-dream",
    "outputId": "53397575-23bf-4fcc-ff89-6e140bc75f01"
   },
   "outputs": [
    {
     "data": {
      "text/html": [
       "<div>\n",
       "<style scoped>\n",
       "    .dataframe tbody tr th:only-of-type {\n",
       "        vertical-align: middle;\n",
       "    }\n",
       "\n",
       "    .dataframe tbody tr th {\n",
       "        vertical-align: top;\n",
       "    }\n",
       "\n",
       "    .dataframe thead th {\n",
       "        text-align: right;\n",
       "    }\n",
       "</style>\n",
       "<table border=\"1\" class=\"dataframe\">\n",
       "  <thead>\n",
       "    <tr style=\"text-align: right;\">\n",
       "      <th></th>\n",
       "      <th>Duration</th>\n",
       "      <th>Net_Sales</th>\n",
       "      <th>Commision_in_value</th>\n",
       "      <th>Age</th>\n",
       "    </tr>\n",
       "  </thead>\n",
       "  <tbody>\n",
       "    <tr>\n",
       "      <th>count</th>\n",
       "      <td>63326.000000</td>\n",
       "      <td>63326.000000</td>\n",
       "      <td>63326.000000</td>\n",
       "      <td>63326.000000</td>\n",
       "    </tr>\n",
       "    <tr>\n",
       "      <th>mean</th>\n",
       "      <td>49.317074</td>\n",
       "      <td>40.702018</td>\n",
       "      <td>9.809992</td>\n",
       "      <td>39.969981</td>\n",
       "    </tr>\n",
       "    <tr>\n",
       "      <th>std</th>\n",
       "      <td>101.791566</td>\n",
       "      <td>48.845637</td>\n",
       "      <td>19.804388</td>\n",
       "      <td>14.017010</td>\n",
       "    </tr>\n",
       "    <tr>\n",
       "      <th>min</th>\n",
       "      <td>-2.000000</td>\n",
       "      <td>-389.000000</td>\n",
       "      <td>0.000000</td>\n",
       "      <td>0.000000</td>\n",
       "    </tr>\n",
       "    <tr>\n",
       "      <th>25%</th>\n",
       "      <td>9.000000</td>\n",
       "      <td>18.000000</td>\n",
       "      <td>0.000000</td>\n",
       "      <td>35.000000</td>\n",
       "    </tr>\n",
       "    <tr>\n",
       "      <th>50%</th>\n",
       "      <td>22.000000</td>\n",
       "      <td>26.530000</td>\n",
       "      <td>0.000000</td>\n",
       "      <td>36.000000</td>\n",
       "    </tr>\n",
       "    <tr>\n",
       "      <th>75%</th>\n",
       "      <td>53.000000</td>\n",
       "      <td>48.000000</td>\n",
       "      <td>11.550000</td>\n",
       "      <td>43.000000</td>\n",
       "    </tr>\n",
       "    <tr>\n",
       "      <th>max</th>\n",
       "      <td>4881.000000</td>\n",
       "      <td>810.000000</td>\n",
       "      <td>283.500000</td>\n",
       "      <td>118.000000</td>\n",
       "    </tr>\n",
       "  </tbody>\n",
       "</table>\n",
       "</div>"
      ],
      "text/plain": [
       "           Duration     Net_Sales  Commision_in_value           Age\n",
       "count  63326.000000  63326.000000        63326.000000  63326.000000\n",
       "mean      49.317074     40.702018            9.809992     39.969981\n",
       "std      101.791566     48.845637           19.804388     14.017010\n",
       "min       -2.000000   -389.000000            0.000000      0.000000\n",
       "25%        9.000000     18.000000            0.000000     35.000000\n",
       "50%       22.000000     26.530000            0.000000     36.000000\n",
       "75%       53.000000     48.000000           11.550000     43.000000\n",
       "max     4881.000000    810.000000          283.500000    118.000000"
      ]
     },
     "execution_count": 11,
     "metadata": {},
     "output_type": "execute_result"
    }
   ],
   "source": [
    "travel_insurance.describe()"
   ]
  },
  {
   "cell_type": "code",
   "execution_count": 12,
   "id": "attempted-finance",
   "metadata": {
    "ExecuteTime": {
     "end_time": "2022-11-10T05:52:25.939034Z",
     "start_time": "2022-11-10T05:52:25.116633Z"
    },
    "id": "attempted-finance"
   },
   "outputs": [],
   "source": [
    "import seaborn as sns\n",
    "import matplotlib.pyplot as plt\n",
    "import matplotlib.patheffects as path_effects   \n",
    "%matplotlib inline"
   ]
  },
  {
   "cell_type": "code",
   "execution_count": null,
   "id": "tutorial-spider",
   "metadata": {
    "colab": {
     "base_uri": "https://localhost:8080/",
     "height": 266
    },
    "id": "tutorial-spider",
    "outputId": "2d48ba9b-78d5-4bef-f8bc-fff1caf1d47d"
   },
   "outputs": [
    {
     "data": {
      "image/png": "[encoded data removed]",
      "text/plain": [
       "<Figure size 432x288 with 1 Axes>"
      ]
     },
     "metadata": {
      "needs_background": "light"
     },
     "output_type": "display_data"
    }
   ],
   "source": [
    "bplot= sns.boxplot(data=travel_insurance) # DURATION에 매우 큰 이상치가 몰려있다. "
   ]
  },
  {
   "cell_type": "code",
   "execution_count": null,
   "id": "ranking-interest",
   "metadata": {
    "colab": {
     "base_uri": "https://localhost:8080/",
     "height": 265
    },
    "id": "ranking-interest",
    "outputId": "759675a9-d54f-41d7-d2db-88469232fe0f"
   },
   "outputs": [
    {
     "data": {
      "image/png": "[encoded data removed]",
      "text/plain": [
       "<Figure size 432x288 with 1 Axes>"
      ]
     },
     "metadata": {
      "needs_background": "light"
     },
     "output_type": "display_data"
    }
   ],
   "source": [
    "bplot= sns.boxplot(data= travel_insurance[['Duration']])"
   ]
  },
  {
   "cell_type": "code",
   "execution_count": null,
   "id": "romance-routine",
   "metadata": {
    "colab": {
     "base_uri": "https://localhost:8080/",
     "height": 266
    },
    "id": "romance-routine",
    "outputId": "d28792e2-55b4-4042-a4e9-9d05e938db98"
   },
   "outputs": [
    {
     "data": {
      "image/png": "[encoded data removed]",
      "text/plain": [
       "<Figure size 432x288 with 1 Axes>"
      ]
     },
     "metadata": {
      "needs_background": "light"
     },
     "output_type": "display_data"
    }
   ],
   "source": [
    "bplot= sns.boxplot(data= travel_insurance[['Net_Sales']])"
   ]
  },
  {
   "cell_type": "code",
   "execution_count": null,
   "id": "future-broad",
   "metadata": {
    "colab": {
     "base_uri": "https://localhost:8080/",
     "height": 266
    },
    "id": "future-broad",
    "outputId": "3f1099a0-bfa9-4ed0-ff1e-60bbc5a1be57"
   },
   "outputs": [
    {
     "data": {
      "image/png": "[encoded data removed]",
      "text/plain": [
       "<Figure size 432x288 with 1 Axes>"
      ]
     },
     "metadata": {
      "needs_background": "light"
     },
     "output_type": "display_data"
    }
   ],
   "source": [
    "bplot= sns.boxplot(data= travel_insurance[['Commision_in_value']])"
   ]
  },
  {
   "cell_type": "code",
   "execution_count": null,
   "id": "fantastic-living",
   "metadata": {
    "colab": {
     "base_uri": "https://localhost:8080/",
     "height": 265
    },
    "id": "fantastic-living",
    "outputId": "8111c0d3-9d5c-4d89-f12f-124d3b6945de"
   },
   "outputs": [
    {
     "data": {
      "image/png": "[encoded data removed]",
      "text/plain": [
       "<Figure size 432x288 with 1 Axes>"
      ]
     },
     "metadata": {
      "needs_background": "light"
     },
     "output_type": "display_data"
    }
   ],
   "source": [
    "bplot= sns.boxplot(data= travel_insurance[['Age']])"
   ]
  },
  {
   "cell_type": "markdown",
   "id": "forbidden-branch",
   "metadata": {
    "id": "forbidden-branch"
   },
   "source": [
    "### 데이터에 이상치가 매우 많음을 알 수있음 \n",
    "#### 그러나 보험금 데이터의 경우 이상치가 보험금 청구에 영향을 미칠 수 있으므로 그대로 진행 \n",
    "#### 만약 성능이 안나온다면 이상치 제거 이후에 진행"
   ]
  },
  {
   "cell_type": "code",
   "execution_count": 13,
   "id": "center-township",
   "metadata": {
    "ExecuteTime": {
     "end_time": "2022-11-10T06:04:36.873025Z",
     "start_time": "2022-11-10T06:04:36.869518Z"
    },
    "id": "center-township"
   },
   "outputs": [],
   "source": [
    "import numpy as np"
   ]
  },
  {
   "cell_type": "code",
   "execution_count": 14,
   "id": "central-cricket",
   "metadata": {
    "ExecuteTime": {
     "end_time": "2022-11-10T06:04:38.833580Z",
     "start_time": "2022-11-10T06:04:38.825423Z"
    },
    "id": "central-cricket"
   },
   "outputs": [],
   "source": [
    "def get_outlier(df=None, column=None, weight=1.5):\n",
    "    # target 값과 상관관계가 높은 열을 우선적으로 진행\n",
    "    q25 = np.percentile(df[column].values, 25)\n",
    "    q75 = np.percentile(df[column].values, 75)\n",
    "\n",
    "    IQR = q75 - q25\n",
    "    IQR_weight = IQR*weight\n",
    "\n",
    "    lowest = q25 - IQR_weight\n",
    "    highest = q75 + IQR_weight\n",
    "\n",
    "    outlier_idx = df[column][ (df[column] < lowest) | (df[column] > highest) ].index\n",
    "    \n",
    "    return outlier_idx"
   ]
  },
  {
   "cell_type": "code",
   "execution_count": 15,
   "id": "piano-shelf",
   "metadata": {
    "ExecuteTime": {
     "end_time": "2022-11-10T06:05:19.120000Z",
     "start_time": "2022-11-10T06:05:19.116379Z"
    },
    "id": "piano-shelf"
   },
   "outputs": [
    {
     "name": "stdout",
     "output_type": "stream",
     "text": [
      "<function get_outlier at 0x7f79db72a940>\n"
     ]
    }
   ],
   "source": [
    "print(get_outlier)"
   ]
  },
  {
   "cell_type": "markdown",
   "id": "funded-manor",
   "metadata": {
    "id": "funded-manor"
   },
   "source": [
    "# 2. 탐색적 자료분석 (EDA)"
   ]
  },
  {
   "cell_type": "markdown",
   "id": "bulgarian-yacht",
   "metadata": {
    "id": "bulgarian-yacht"
   },
   "source": [
    "## 2-1 범주형"
   ]
  },
  {
   "cell_type": "code",
   "execution_count": 16,
   "id": "handled-greek",
   "metadata": {
    "ExecuteTime": {
     "end_time": "2022-11-10T06:05:35.526934Z",
     "start_time": "2022-11-10T06:05:35.165789Z"
    },
    "colab": {
     "base_uri": "https://localhost:8080/",
     "height": 653
    },
    "id": "handled-greek",
    "outputId": "04fe854a-6ebb-48a1-f0f6-9e211bafc8b8"
   },
   "outputs": [
    {
     "data": {
      "text/plain": [
       "Text(0.5, 1.0, 'Gender')"
      ]
     },
     "execution_count": 16,
     "metadata": {},
     "output_type": "execute_result"
    },
    {
     "data": {
      "image/png": "[encoded data removed]",
      "text/plain": [
       "<Figure size 1080x720 with 4 Axes>"
      ]
     },
     "metadata": {
      "needs_background": "light"
     },
     "output_type": "display_data"
    }
   ],
   "source": [
    "plt.figure(figsize=(15,10))\n",
    "plt.subplot(2,2,1)\n",
    "sns.countplot(travel_insurance['Agency_Type'])\n",
    "plt.title('Agency_Type')\n",
    "plt.subplot(2,2,2)\n",
    "sns.countplot(travel_insurance['Distribution_Channel'])\n",
    "plt.title('Distribution_Channel')\n",
    "\n",
    "plt.subplot(2,2,3)\n",
    "sns.countplot(travel_insurance['Agency'])\n",
    "plt.xticks(rotation=90)\n",
    "plt.title('Agency')\n",
    "plt.subplot(2,2,4)\n",
    "sns.countplot(travel_insurance['Gender'])\n",
    "plt.title('Gender')"
   ]
  },
  {
   "cell_type": "code",
   "execution_count": 17,
   "id": "serial-grass",
   "metadata": {
    "ExecuteTime": {
     "end_time": "2022-11-10T06:06:18.034050Z",
     "start_time": "2022-11-10T06:06:16.478529Z"
    },
    "colab": {
     "base_uri": "https://localhost:8080/",
     "height": 609
    },
    "id": "serial-grass",
    "outputId": "75d90d11-a9ac-4e15-be9e-40bcb03a84d8"
   },
   "outputs": [
    {
     "data": {
      "text/plain": [
       "Text(0.5, 1.0, 'Destination')"
      ]
     },
     "execution_count": 17,
     "metadata": {},
     "output_type": "execute_result"
    },
    {
     "data": {
      "image/png": "[encoded data removed]",
      "text/plain": [
       "<Figure size 1080x720 with 1 Axes>"
      ]
     },
     "metadata": {},
     "output_type": "display_data"
    }
   ],
   "source": [
    "plt.figure(figsize=(15,10))\n",
    "\n",
    "wedges, texts = plt.pie(travel_insurance['Destination'].value_counts(),    \n",
    "                                  labels = travel_insurance['Destination'].unique(), \n",
    "                                  shadow = True,\n",
    "                                  textprops = dict(color =\"magenta\")) \n",
    "\n",
    "\n",
    "plt.pie(travel_insurance['Destination'].value_counts(),labels=travel_insurance['Destination'].unique())\n",
    "plt.title('Destination')"
   ]
  },
  {
   "cell_type": "code",
   "execution_count": 18,
   "id": "cellular-stand",
   "metadata": {
    "ExecuteTime": {
     "end_time": "2022-11-10T06:06:25.113978Z",
     "start_time": "2022-11-10T06:06:24.939495Z"
    },
    "colab": {
     "base_uri": "https://localhost:8080/",
     "height": 326
    },
    "id": "cellular-stand",
    "outputId": "ece553f9-0dae-42b4-a984-c86eb1692156"
   },
   "outputs": [
    {
     "data": {
      "text/plain": [
       "(array([-20.,   0.,  20.,  40.,  60.,  80., 100., 120., 140.]),\n",
       " [Text(0, 0, ''),\n",
       "  Text(0, 0, ''),\n",
       "  Text(0, 0, ''),\n",
       "  Text(0, 0, ''),\n",
       "  Text(0, 0, ''),\n",
       "  Text(0, 0, ''),\n",
       "  Text(0, 0, ''),\n",
       "  Text(0, 0, ''),\n",
       "  Text(0, 0, '')])"
      ]
     },
     "execution_count": 18,
     "metadata": {},
     "output_type": "execute_result"
    },
    {
     "data": {
      "image/png": "[encoded data removed]",
      "text/plain": [
       "<Figure size 720x288 with 1 Axes>"
      ]
     },
     "metadata": {
      "needs_background": "light"
     },
     "output_type": "display_data"
    }
   ],
   "source": [
    "plt.figure(figsize = (10,4))\n",
    "plt.hist(travel_insurance['Age'],bins=100)\n",
    "plt.title('Age')\n",
    "plt.xticks(rotation=90)"
   ]
  },
  {
   "cell_type": "code",
   "execution_count": null,
   "id": "cardiac-artwork",
   "metadata": {
    "colab": {
     "base_uri": "https://localhost:8080/",
     "height": 289
    },
    "id": "cardiac-artwork",
    "outputId": "d6f3f25f-ef81-41e1-8c6e-bc533ba2dac5"
   },
   "outputs": [
    {
     "data": {
      "text/plain": [
       "<matplotlib.axes._subplots.AxesSubplot at 0x7f75864845d0>"
      ]
     },
     "execution_count": 34,
     "metadata": {},
     "output_type": "execute_result"
    },
    {
     "data": {
      "image/png": "[encoded data removed]",
      "text/plain": [
       "<Figure size 432x288 with 1 Axes>"
      ]
     },
     "metadata": {
      "needs_background": "light"
     },
     "output_type": "display_data"
    }
   ],
   "source": [
    "# 종속변수 y \n",
    "travel_insurance['Claim'].value_counts().plot.bar()\n",
    "\n",
    "# : 불균형이 상당히 심한 불균형 데이터 \n",
    "## 1) 평가지표를 f1 score를 사용\n",
    "## 2) 머신러닝 불균형 해소 방법인 SMOTE 이용"
   ]
  },
  {
   "cell_type": "markdown",
   "id": "parental-officer",
   "metadata": {
    "id": "parental-officer"
   },
   "source": [
    "## 2-3. 연속형"
   ]
  },
  {
   "cell_type": "code",
   "execution_count": 19,
   "id": "olive-gender",
   "metadata": {
    "ExecuteTime": {
     "end_time": "2022-11-10T06:06:29.683999Z",
     "start_time": "2022-11-10T06:06:29.663308Z"
    },
    "colab": {
     "base_uri": "https://localhost:8080/",
     "height": 112
    },
    "id": "olive-gender",
    "outputId": "acc516c6-12d0-4f55-9c31-067fb0e42894"
   },
   "outputs": [
    {
     "data": {
      "text/html": [
       "<div>\n",
       "<style scoped>\n",
       "    .dataframe tbody tr th:only-of-type {\n",
       "        vertical-align: middle;\n",
       "    }\n",
       "\n",
       "    .dataframe tbody tr th {\n",
       "        vertical-align: top;\n",
       "    }\n",
       "\n",
       "    .dataframe thead th {\n",
       "        text-align: right;\n",
       "    }\n",
       "</style>\n",
       "<table border=\"1\" class=\"dataframe\">\n",
       "  <thead>\n",
       "    <tr style=\"text-align: right;\">\n",
       "      <th></th>\n",
       "      <th>Agency</th>\n",
       "      <th>Agency_Type</th>\n",
       "      <th>Distribution_Channel</th>\n",
       "      <th>Product_Name</th>\n",
       "      <th>Claim</th>\n",
       "      <th>Duration</th>\n",
       "      <th>Destination</th>\n",
       "      <th>Net_Sales</th>\n",
       "      <th>Commision_in_value</th>\n",
       "      <th>Gender</th>\n",
       "      <th>Age</th>\n",
       "    </tr>\n",
       "  </thead>\n",
       "  <tbody>\n",
       "    <tr>\n",
       "      <th>0</th>\n",
       "      <td>CBH</td>\n",
       "      <td>Travel Agency</td>\n",
       "      <td>Offline</td>\n",
       "      <td>Comprehensive Plan</td>\n",
       "      <td>No</td>\n",
       "      <td>186</td>\n",
       "      <td>MALAYSIA</td>\n",
       "      <td>-29.0</td>\n",
       "      <td>9.57</td>\n",
       "      <td>F</td>\n",
       "      <td>81</td>\n",
       "    </tr>\n",
       "    <tr>\n",
       "      <th>1</th>\n",
       "      <td>CBH</td>\n",
       "      <td>Travel Agency</td>\n",
       "      <td>Offline</td>\n",
       "      <td>Comprehensive Plan</td>\n",
       "      <td>No</td>\n",
       "      <td>186</td>\n",
       "      <td>MALAYSIA</td>\n",
       "      <td>-29.0</td>\n",
       "      <td>9.57</td>\n",
       "      <td>F</td>\n",
       "      <td>71</td>\n",
       "    </tr>\n",
       "  </tbody>\n",
       "</table>\n",
       "</div>"
      ],
      "text/plain": [
       "  Agency    Agency_Type Distribution_Channel        Product_Name Claim  \\\n",
       "0    CBH  Travel Agency              Offline  Comprehensive Plan    No   \n",
       "1    CBH  Travel Agency              Offline  Comprehensive Plan    No   \n",
       "\n",
       "   Duration Destination  Net_Sales  Commision_in_value Gender  Age  \n",
       "0       186    MALAYSIA      -29.0                9.57      F   81  \n",
       "1       186    MALAYSIA      -29.0                9.57      F   71  "
      ]
     },
     "execution_count": 19,
     "metadata": {},
     "output_type": "execute_result"
    }
   ],
   "source": [
    "travel_insurance.head(2)"
   ]
  },
  {
   "cell_type": "code",
   "execution_count": 20,
   "id": "addressed-miami",
   "metadata": {
    "ExecuteTime": {
     "end_time": "2022-11-10T06:06:34.092107Z",
     "start_time": "2022-11-10T06:06:33.691397Z"
    },
    "colab": {
     "base_uri": "https://localhost:8080/",
     "height": 297
    },
    "id": "addressed-miami",
    "outputId": "372875fb-b6b7-4113-d926-405ba131a268"
   },
   "outputs": [
    {
     "data": {
      "text/plain": [
       "<AxesSubplot:xlabel='Duration', ylabel='Density'>"
      ]
     },
     "execution_count": 20,
     "metadata": {},
     "output_type": "execute_result"
    },
    {
     "data": {
      "image/png": "[encoded data removed]",
      "text/plain": [
       "<Figure size 432x288 with 1 Axes>"
      ]
     },
     "metadata": {
      "needs_background": "light"
     },
     "output_type": "display_data"
    }
   ],
   "source": [
    "# 오른쪽으로 꼬리가 긴 분포를 띈다.\n",
    "sns.distplot(travel_insurance['Duration'])"
   ]
  },
  {
   "cell_type": "code",
   "execution_count": 21,
   "id": "olympic-cathedral",
   "metadata": {
    "ExecuteTime": {
     "end_time": "2022-11-10T06:06:36.341843Z",
     "start_time": "2022-11-10T06:06:36.050452Z"
    },
    "colab": {
     "base_uri": "https://localhost:8080/",
     "height": 298
    },
    "id": "olympic-cathedral",
    "outputId": "094009bc-9b8e-4e37-f866-72d2e787005c"
   },
   "outputs": [
    {
     "data": {
      "text/plain": [
       "<AxesSubplot:xlabel='Commision_in_value', ylabel='Density'>"
      ]
     },
     "execution_count": 21,
     "metadata": {},
     "output_type": "execute_result"
    },
    {
     "data": {
      "image/png": "[encoded data removed]",
      "text/plain": [
       "<Figure size 432x288 with 1 Axes>"
      ]
     },
     "metadata": {
      "needs_background": "light"
     },
     "output_type": "display_data"
    }
   ],
   "source": [
    "# 0인 경우가 대부분이다 \n",
    "sns.distplot(travel_insurance['Commision_in_value'])"
   ]
  },
  {
   "cell_type": "code",
   "execution_count": null,
   "id": "close-portugal",
   "metadata": {
    "id": "close-portugal"
   },
   "outputs": [],
   "source": []
  },
  {
   "cell_type": "markdown",
   "id": "manufactured-adoption",
   "metadata": {
    "id": "manufactured-adoption"
   },
   "source": [
    "## 2-4. 연속형 독립변수 상관관계"
   ]
  },
  {
   "cell_type": "code",
   "execution_count": 22,
   "id": "naval-hydrogen",
   "metadata": {
    "ExecuteTime": {
     "end_time": "2022-11-10T06:06:41.154939Z",
     "start_time": "2022-11-10T06:06:41.134080Z"
    },
    "colab": {
     "base_uri": "https://localhost:8080/",
     "height": 175
    },
    "id": "naval-hydrogen",
    "outputId": "40ff285b-2f82-4c42-fa9c-a64baae6b73a"
   },
   "outputs": [
    {
     "data": {
      "text/html": [
       "<div>\n",
       "<style scoped>\n",
       "    .dataframe tbody tr th:only-of-type {\n",
       "        vertical-align: middle;\n",
       "    }\n",
       "\n",
       "    .dataframe tbody tr th {\n",
       "        vertical-align: top;\n",
       "    }\n",
       "\n",
       "    .dataframe thead th {\n",
       "        text-align: right;\n",
       "    }\n",
       "</style>\n",
       "<table border=\"1\" class=\"dataframe\">\n",
       "  <thead>\n",
       "    <tr style=\"text-align: right;\">\n",
       "      <th></th>\n",
       "      <th>Duration</th>\n",
       "      <th>Net_Sales</th>\n",
       "      <th>Commision_in_value</th>\n",
       "      <th>Age</th>\n",
       "    </tr>\n",
       "  </thead>\n",
       "  <tbody>\n",
       "    <tr>\n",
       "      <th>Duration</th>\n",
       "      <td>1.000000</td>\n",
       "      <td>0.429235</td>\n",
       "      <td>0.344772</td>\n",
       "      <td>0.002468</td>\n",
       "    </tr>\n",
       "    <tr>\n",
       "      <th>Net_Sales</th>\n",
       "      <td>0.429235</td>\n",
       "      <td>1.000000</td>\n",
       "      <td>0.651315</td>\n",
       "      <td>0.037756</td>\n",
       "    </tr>\n",
       "    <tr>\n",
       "      <th>Commision_in_value</th>\n",
       "      <td>0.344772</td>\n",
       "      <td>0.651315</td>\n",
       "      <td>1.000000</td>\n",
       "      <td>0.118348</td>\n",
       "    </tr>\n",
       "    <tr>\n",
       "      <th>Age</th>\n",
       "      <td>0.002468</td>\n",
       "      <td>0.037756</td>\n",
       "      <td>0.118348</td>\n",
       "      <td>1.000000</td>\n",
       "    </tr>\n",
       "  </tbody>\n",
       "</table>\n",
       "</div>"
      ],
      "text/plain": [
       "                    Duration  Net_Sales  Commision_in_value       Age\n",
       "Duration            1.000000   0.429235            0.344772  0.002468\n",
       "Net_Sales           0.429235   1.000000            0.651315  0.037756\n",
       "Commision_in_value  0.344772   0.651315            1.000000  0.118348\n",
       "Age                 0.002468   0.037756            0.118348  1.000000"
      ]
     },
     "execution_count": 22,
     "metadata": {},
     "output_type": "execute_result"
    }
   ],
   "source": [
    "corr = travel_insurance.corr(method = 'pearson') \n",
    "corr"
   ]
  },
  {
   "cell_type": "code",
   "execution_count": 23,
   "id": "historic-emphasis",
   "metadata": {
    "ExecuteTime": {
     "end_time": "2022-11-10T06:06:48.453688Z",
     "start_time": "2022-11-10T06:06:48.315403Z"
    },
    "colab": {
     "base_uri": "https://localhost:8080/",
     "height": 361
    },
    "id": "historic-emphasis",
    "outputId": "bc1d4032-c02f-4aad-a127-d758b11ae3f2"
   },
   "outputs": [
    {
     "data": {
      "image/png": "[encoded data removed]",
      "text/plain": [
       "<Figure size 432x288 with 2 Axes>"
      ]
     },
     "metadata": {
      "needs_background": "light"
     },
     "output_type": "display_data"
    }
   ],
   "source": [
    "df_heatmap = sns.heatmap(corr, cbar = True, annot = True, annot_kws={'size' : 20}, fmt = '.2f', square = True, cmap = 'Blues')"
   ]
  },
  {
   "cell_type": "code",
   "execution_count": null,
   "id": "italic-calculator",
   "metadata": {
    "id": "italic-calculator"
   },
   "outputs": [],
   "source": []
  },
  {
   "cell_type": "markdown",
   "id": "answering-database",
   "metadata": {
    "id": "answering-database"
   },
   "source": [
    "# 3. 모델링\n",
    "- 이진분류 모델링 : 로지스틱회귀, 랜덤포레스트, SVM\n",
    "- 설명은 Notion 참조"
   ]
  },
  {
   "cell_type": "markdown",
   "id": "genetic-eight",
   "metadata": {
    "id": "genetic-eight"
   },
   "source": [
    "## 3-1 불균형 해소\n",
    "* 불균형 해소를 위해 SMOTE 기법을 이용한다"
   ]
  },
  {
   "cell_type": "code",
   "execution_count": null,
   "id": "valued-practitioner",
   "metadata": {
    "id": "valued-practitioner"
   },
   "outputs": [],
   "source": [
    "# 일단 범주형 변수를 원핫인코딩 한다"
   ]
  },
  {
   "cell_type": "code",
   "execution_count": 24,
   "id": "worse-adolescent",
   "metadata": {
    "ExecuteTime": {
     "end_time": "2022-11-10T06:06:59.131976Z",
     "start_time": "2022-11-10T06:06:58.991588Z"
    },
    "id": "worse-adolescent"
   },
   "outputs": [],
   "source": [
    "from sklearn import preprocessing\n",
    "label_encoder1 = preprocessing.LabelEncoder()\n",
    "travel_insurance['Agency']= label_encoder1.fit_transform(travel_insurance['Agency'])\n",
    "  \n",
    "label_encoder2 = preprocessing.LabelEncoder()\n",
    "travel_insurance['Agency_Type']= label_encoder2.fit_transform(travel_insurance['Agency_Type'])\n",
    "\n",
    "label_encoder3 = preprocessing.LabelEncoder()\n",
    "travel_insurance['Distribution_Channel']= label_encoder3.fit_transform(travel_insurance['Distribution_Channel'])\n",
    "\n",
    "label_encoder4 = preprocessing.LabelEncoder()\n",
    "travel_insurance['Product_Name']= label_encoder4.fit_transform(travel_insurance['Product_Name'])\n",
    "\n",
    "label_encoder5 = preprocessing.LabelEncoder()\n",
    "travel_insurance['Claim']= label_encoder5.fit_transform(travel_insurance['Claim'])\n",
    "\n",
    "label_encoder6 = preprocessing.LabelEncoder()\n",
    "travel_insurance['Destination']= label_encoder6.fit_transform(travel_insurance['Destination'])"
   ]
  },
  {
   "cell_type": "code",
   "execution_count": 25,
   "id": "technical-shirt",
   "metadata": {
    "ExecuteTime": {
     "end_time": "2022-11-10T06:07:04.392491Z",
     "start_time": "2022-11-10T06:07:04.381648Z"
    },
    "id": "technical-shirt"
   },
   "outputs": [],
   "source": [
    "column_names = [\"Agency\", \"Agency_Type\", \"Distribution_Channel\",\"Product_Name\",\"Duration\",\"Destination\",\"Net_Sales\",\"Commision_in_value\",\"Age\",\"Claim\"]\n",
    "travel_insurance = travel_insurance.reindex(columns=column_names)"
   ]
  },
  {
   "cell_type": "code",
   "execution_count": 26,
   "id": "indirect-canyon",
   "metadata": {
    "ExecuteTime": {
     "end_time": "2022-11-10T06:07:06.988663Z",
     "start_time": "2022-11-10T06:07:06.978713Z"
    },
    "id": "indirect-canyon"
   },
   "outputs": [],
   "source": [
    "y= travel_insurance.iloc[:,[-1]]\n",
    "X= travel_insurance.drop(y.columns,axis = 1)"
   ]
  },
  {
   "cell_type": "code",
   "execution_count": 28,
   "id": "c6cbb394",
   "metadata": {
    "ExecuteTime": {
     "end_time": "2022-11-10T06:07:18.759509Z",
     "start_time": "2022-11-10T06:07:18.736879Z"
    }
   },
   "outputs": [
    {
     "data": {
      "text/html": [
       "<div>\n",
       "<style scoped>\n",
       "    .dataframe tbody tr th:only-of-type {\n",
       "        vertical-align: middle;\n",
       "    }\n",
       "\n",
       "    .dataframe tbody tr th {\n",
       "        vertical-align: top;\n",
       "    }\n",
       "\n",
       "    .dataframe thead th {\n",
       "        text-align: right;\n",
       "    }\n",
       "</style>\n",
       "<table border=\"1\" class=\"dataframe\">\n",
       "  <thead>\n",
       "    <tr style=\"text-align: right;\">\n",
       "      <th></th>\n",
       "      <th>Agency</th>\n",
       "      <th>Agency_Type</th>\n",
       "      <th>Distribution_Channel</th>\n",
       "      <th>Product_Name</th>\n",
       "      <th>Duration</th>\n",
       "      <th>Destination</th>\n",
       "      <th>Net_Sales</th>\n",
       "      <th>Commision_in_value</th>\n",
       "      <th>Age</th>\n",
       "    </tr>\n",
       "  </thead>\n",
       "  <tbody>\n",
       "    <tr>\n",
       "      <th>0</th>\n",
       "      <td>3</td>\n",
       "      <td>1</td>\n",
       "      <td>0</td>\n",
       "      <td>12</td>\n",
       "      <td>186</td>\n",
       "      <td>79</td>\n",
       "      <td>-29.0</td>\n",
       "      <td>9.57</td>\n",
       "      <td>81</td>\n",
       "    </tr>\n",
       "    <tr>\n",
       "      <th>1</th>\n",
       "      <td>3</td>\n",
       "      <td>1</td>\n",
       "      <td>0</td>\n",
       "      <td>12</td>\n",
       "      <td>186</td>\n",
       "      <td>79</td>\n",
       "      <td>-29.0</td>\n",
       "      <td>9.57</td>\n",
       "      <td>71</td>\n",
       "    </tr>\n",
       "    <tr>\n",
       "      <th>2</th>\n",
       "      <td>6</td>\n",
       "      <td>1</td>\n",
       "      <td>1</td>\n",
       "      <td>16</td>\n",
       "      <td>65</td>\n",
       "      <td>4</td>\n",
       "      <td>-49.5</td>\n",
       "      <td>29.70</td>\n",
       "      <td>32</td>\n",
       "    </tr>\n",
       "    <tr>\n",
       "      <th>3</th>\n",
       "      <td>6</td>\n",
       "      <td>1</td>\n",
       "      <td>1</td>\n",
       "      <td>16</td>\n",
       "      <td>60</td>\n",
       "      <td>4</td>\n",
       "      <td>-39.6</td>\n",
       "      <td>23.76</td>\n",
       "      <td>32</td>\n",
       "    </tr>\n",
       "    <tr>\n",
       "      <th>4</th>\n",
       "      <td>6</td>\n",
       "      <td>1</td>\n",
       "      <td>1</td>\n",
       "      <td>16</td>\n",
       "      <td>79</td>\n",
       "      <td>61</td>\n",
       "      <td>-19.8</td>\n",
       "      <td>11.88</td>\n",
       "      <td>41</td>\n",
       "    </tr>\n",
       "    <tr>\n",
       "      <th>...</th>\n",
       "      <td>...</td>\n",
       "      <td>...</td>\n",
       "      <td>...</td>\n",
       "      <td>...</td>\n",
       "      <td>...</td>\n",
       "      <td>...</td>\n",
       "      <td>...</td>\n",
       "      <td>...</td>\n",
       "      <td>...</td>\n",
       "    </tr>\n",
       "    <tr>\n",
       "      <th>63321</th>\n",
       "      <td>9</td>\n",
       "      <td>0</td>\n",
       "      <td>1</td>\n",
       "      <td>8</td>\n",
       "      <td>111</td>\n",
       "      <td>63</td>\n",
       "      <td>35.0</td>\n",
       "      <td>12.25</td>\n",
       "      <td>31</td>\n",
       "    </tr>\n",
       "    <tr>\n",
       "      <th>63322</th>\n",
       "      <td>9</td>\n",
       "      <td>0</td>\n",
       "      <td>1</td>\n",
       "      <td>8</td>\n",
       "      <td>58</td>\n",
       "      <td>26</td>\n",
       "      <td>40.0</td>\n",
       "      <td>14.00</td>\n",
       "      <td>40</td>\n",
       "    </tr>\n",
       "    <tr>\n",
       "      <th>63323</th>\n",
       "      <td>9</td>\n",
       "      <td>0</td>\n",
       "      <td>1</td>\n",
       "      <td>8</td>\n",
       "      <td>2</td>\n",
       "      <td>79</td>\n",
       "      <td>18.0</td>\n",
       "      <td>6.30</td>\n",
       "      <td>57</td>\n",
       "    </tr>\n",
       "    <tr>\n",
       "      <th>63324</th>\n",
       "      <td>9</td>\n",
       "      <td>0</td>\n",
       "      <td>1</td>\n",
       "      <td>8</td>\n",
       "      <td>3</td>\n",
       "      <td>145</td>\n",
       "      <td>18.0</td>\n",
       "      <td>6.30</td>\n",
       "      <td>63</td>\n",
       "    </tr>\n",
       "    <tr>\n",
       "      <th>63325</th>\n",
       "      <td>9</td>\n",
       "      <td>0</td>\n",
       "      <td>1</td>\n",
       "      <td>8</td>\n",
       "      <td>22</td>\n",
       "      <td>53</td>\n",
       "      <td>26.0</td>\n",
       "      <td>9.10</td>\n",
       "      <td>35</td>\n",
       "    </tr>\n",
       "  </tbody>\n",
       "</table>\n",
       "<p>63326 rows × 9 columns</p>\n",
       "</div>"
      ],
      "text/plain": [
       "       Agency  Agency_Type  Distribution_Channel  Product_Name  Duration  \\\n",
       "0           3            1                     0            12       186   \n",
       "1           3            1                     0            12       186   \n",
       "2           6            1                     1            16        65   \n",
       "3           6            1                     1            16        60   \n",
       "4           6            1                     1            16        79   \n",
       "...       ...          ...                   ...           ...       ...   \n",
       "63321       9            0                     1             8       111   \n",
       "63322       9            0                     1             8        58   \n",
       "63323       9            0                     1             8         2   \n",
       "63324       9            0                     1             8         3   \n",
       "63325       9            0                     1             8        22   \n",
       "\n",
       "       Destination  Net_Sales  Commision_in_value  Age  \n",
       "0               79      -29.0                9.57   81  \n",
       "1               79      -29.0                9.57   71  \n",
       "2                4      -49.5               29.70   32  \n",
       "3                4      -39.6               23.76   32  \n",
       "4               61      -19.8               11.88   41  \n",
       "...            ...        ...                 ...  ...  \n",
       "63321           63       35.0               12.25   31  \n",
       "63322           26       40.0               14.00   40  \n",
       "63323           79       18.0                6.30   57  \n",
       "63324          145       18.0                6.30   63  \n",
       "63325           53       26.0                9.10   35  \n",
       "\n",
       "[63326 rows x 9 columns]"
      ]
     },
     "execution_count": 28,
     "metadata": {},
     "output_type": "execute_result"
    }
   ],
   "source": [
    "X"
   ]
  },
  {
   "cell_type": "code",
   "execution_count": 33,
   "id": "expanded-nutrition",
   "metadata": {
    "ExecuteTime": {
     "end_time": "2022-11-10T06:12:57.269086Z",
     "start_time": "2022-11-10T06:12:55.503118Z"
    },
    "colab": {
     "base_uri": "https://localhost:8080/"
    },
    "id": "expanded-nutrition",
    "outputId": "c153e80f-ab55-44ec-b15e-1a606162ef09"
   },
   "outputs": [
    {
     "ename": "AttributeError",
     "evalue": "module 'sklearn.utils._openmp_helpers' has no attribute '__pyx_capi__'",
     "output_type": "error",
     "traceback": [
      "\u001b[0;31m---------------------------------------------------------------------------\u001b[0m",
      "\u001b[0;31mAttributeError\u001b[0m                            Traceback (most recent call last)",
      "Input \u001b[0;32mIn [33]\u001b[0m, in \u001b[0;36m<cell line: 3>\u001b[0;34m()\u001b[0m\n\u001b[1;32m      1\u001b[0m \u001b[38;5;66;03m# ! pip install imblearn\u001b[39;00m\n\u001b[1;32m      2\u001b[0m \u001b[38;5;28;01mfrom\u001b[39;00m \u001b[38;5;21;01msklearn\u001b[39;00m\u001b[38;5;21;01m.\u001b[39;00m\u001b[38;5;21;01mdatasets\u001b[39;00m \u001b[38;5;28;01mimport\u001b[39;00m make_classification\n\u001b[0;32m----> 3\u001b[0m \u001b[38;5;28;01mfrom\u001b[39;00m \u001b[38;5;21;01mimblearn\u001b[39;00m\u001b[38;5;21;01m.\u001b[39;00m\u001b[38;5;21;01mover_sampling\u001b[39;00m \u001b[38;5;28;01mimport\u001b[39;00m SMOTE \n\u001b[1;32m      5\u001b[0m sm \u001b[38;5;241m=\u001b[39m SMOTE(random_state\u001b[38;5;241m=\u001b[39m\u001b[38;5;241m42\u001b[39m)\n\u001b[1;32m      6\u001b[0m X_sm, y_sm \u001b[38;5;241m=\u001b[39m sm\u001b[38;5;241m.\u001b[39mfit_resample(X, y)\n",
      "File \u001b[0;32m~/opt/anaconda3/lib/python3.9/site-packages/imblearn/__init__.py:52\u001b[0m, in \u001b[0;36m<module>\u001b[0;34m\u001b[0m\n\u001b[1;32m     48\u001b[0m     sys\u001b[38;5;241m.\u001b[39mstderr\u001b[38;5;241m.\u001b[39mwrite(\u001b[38;5;124m\"\u001b[39m\u001b[38;5;124mPartial import of imblearn during the build process.\u001b[39m\u001b[38;5;130;01m\\n\u001b[39;00m\u001b[38;5;124m\"\u001b[39m)\n\u001b[1;32m     49\u001b[0m     \u001b[38;5;66;03m# We are not importing the rest of scikit-learn during the build\u001b[39;00m\n\u001b[1;32m     50\u001b[0m     \u001b[38;5;66;03m# process, as it may not be compiled yet\u001b[39;00m\n\u001b[1;32m     51\u001b[0m \u001b[38;5;28;01melse\u001b[39;00m:\n\u001b[0;32m---> 52\u001b[0m     \u001b[38;5;28;01mfrom\u001b[39;00m \u001b[38;5;21;01m.\u001b[39;00m \u001b[38;5;28;01mimport\u001b[39;00m combine\n\u001b[1;32m     53\u001b[0m     \u001b[38;5;28;01mfrom\u001b[39;00m \u001b[38;5;21;01m.\u001b[39;00m \u001b[38;5;28;01mimport\u001b[39;00m ensemble\n\u001b[1;32m     54\u001b[0m     \u001b[38;5;28;01mfrom\u001b[39;00m \u001b[38;5;21;01m.\u001b[39;00m \u001b[38;5;28;01mimport\u001b[39;00m exceptions\n",
      "File \u001b[0;32m~/opt/anaconda3/lib/python3.9/site-packages/imblearn/combine/__init__.py:5\u001b[0m, in \u001b[0;36m<module>\u001b[0;34m\u001b[0m\n\u001b[1;32m      1\u001b[0m \u001b[38;5;124;03m\"\"\"The :mod:`imblearn.combine` provides methods which combine\u001b[39;00m\n\u001b[1;32m      2\u001b[0m \u001b[38;5;124;03mover-sampling and under-sampling.\u001b[39;00m\n\u001b[1;32m      3\u001b[0m \u001b[38;5;124;03m\"\"\"\u001b[39;00m\n\u001b[0;32m----> 5\u001b[0m \u001b[38;5;28;01mfrom\u001b[39;00m \u001b[38;5;21;01m.\u001b[39;00m\u001b[38;5;21;01m_smote_enn\u001b[39;00m \u001b[38;5;28;01mimport\u001b[39;00m SMOTEENN\n\u001b[1;32m      6\u001b[0m \u001b[38;5;28;01mfrom\u001b[39;00m \u001b[38;5;21;01m.\u001b[39;00m\u001b[38;5;21;01m_smote_tomek\u001b[39;00m \u001b[38;5;28;01mimport\u001b[39;00m SMOTETomek\n\u001b[1;32m      8\u001b[0m __all__ \u001b[38;5;241m=\u001b[39m [\u001b[38;5;124m\"\u001b[39m\u001b[38;5;124mSMOTEENN\u001b[39m\u001b[38;5;124m\"\u001b[39m, \u001b[38;5;124m\"\u001b[39m\u001b[38;5;124mSMOTETomek\u001b[39m\u001b[38;5;124m\"\u001b[39m]\n",
      "File \u001b[0;32m~/opt/anaconda3/lib/python3.9/site-packages/imblearn/combine/_smote_enn.py:10\u001b[0m, in \u001b[0;36m<module>\u001b[0;34m\u001b[0m\n\u001b[1;32m      7\u001b[0m \u001b[38;5;28;01mfrom\u001b[39;00m \u001b[38;5;21;01msklearn\u001b[39;00m\u001b[38;5;21;01m.\u001b[39;00m\u001b[38;5;21;01mbase\u001b[39;00m \u001b[38;5;28;01mimport\u001b[39;00m clone\n\u001b[1;32m      8\u001b[0m \u001b[38;5;28;01mfrom\u001b[39;00m \u001b[38;5;21;01msklearn\u001b[39;00m\u001b[38;5;21;01m.\u001b[39;00m\u001b[38;5;21;01mutils\u001b[39;00m \u001b[38;5;28;01mimport\u001b[39;00m check_X_y\n\u001b[0;32m---> 10\u001b[0m \u001b[38;5;28;01mfrom\u001b[39;00m \u001b[38;5;21;01m.\u001b[39;00m\u001b[38;5;21;01m.\u001b[39;00m\u001b[38;5;21;01mbase\u001b[39;00m \u001b[38;5;28;01mimport\u001b[39;00m BaseSampler\n\u001b[1;32m     11\u001b[0m \u001b[38;5;28;01mfrom\u001b[39;00m \u001b[38;5;21;01m.\u001b[39;00m\u001b[38;5;21;01m.\u001b[39;00m\u001b[38;5;21;01mover_sampling\u001b[39;00m \u001b[38;5;28;01mimport\u001b[39;00m SMOTE\n\u001b[1;32m     12\u001b[0m \u001b[38;5;28;01mfrom\u001b[39;00m \u001b[38;5;21;01m.\u001b[39;00m\u001b[38;5;21;01m.\u001b[39;00m\u001b[38;5;21;01mover_sampling\u001b[39;00m\u001b[38;5;21;01m.\u001b[39;00m\u001b[38;5;21;01mbase\u001b[39;00m \u001b[38;5;28;01mimport\u001b[39;00m BaseOverSampler\n",
      "File \u001b[0;32m~/opt/anaconda3/lib/python3.9/site-packages/imblearn/base.py:15\u001b[0m, in \u001b[0;36m<module>\u001b[0;34m\u001b[0m\n\u001b[1;32m     12\u001b[0m \u001b[38;5;28;01mfrom\u001b[39;00m \u001b[38;5;21;01msklearn\u001b[39;00m\u001b[38;5;21;01m.\u001b[39;00m\u001b[38;5;21;01mpreprocessing\u001b[39;00m \u001b[38;5;28;01mimport\u001b[39;00m label_binarize\n\u001b[1;32m     13\u001b[0m \u001b[38;5;28;01mfrom\u001b[39;00m \u001b[38;5;21;01msklearn\u001b[39;00m\u001b[38;5;21;01m.\u001b[39;00m\u001b[38;5;21;01mutils\u001b[39;00m\u001b[38;5;21;01m.\u001b[39;00m\u001b[38;5;21;01mmulticlass\u001b[39;00m \u001b[38;5;28;01mimport\u001b[39;00m check_classification_targets\n\u001b[0;32m---> 15\u001b[0m \u001b[38;5;28;01mfrom\u001b[39;00m \u001b[38;5;21;01m.\u001b[39;00m\u001b[38;5;21;01mutils\u001b[39;00m \u001b[38;5;28;01mimport\u001b[39;00m check_sampling_strategy, check_target_type\n\u001b[1;32m     16\u001b[0m \u001b[38;5;28;01mfrom\u001b[39;00m \u001b[38;5;21;01m.\u001b[39;00m\u001b[38;5;21;01mutils\u001b[39;00m\u001b[38;5;21;01m.\u001b[39;00m\u001b[38;5;21;01m_validation\u001b[39;00m \u001b[38;5;28;01mimport\u001b[39;00m ArraysTransformer\n\u001b[1;32m     17\u001b[0m \u001b[38;5;28;01mfrom\u001b[39;00m \u001b[38;5;21;01m.\u001b[39;00m\u001b[38;5;21;01mutils\u001b[39;00m\u001b[38;5;21;01m.\u001b[39;00m\u001b[38;5;21;01m_validation\u001b[39;00m \u001b[38;5;28;01mimport\u001b[39;00m _deprecate_positional_args\n",
      "File \u001b[0;32m~/opt/anaconda3/lib/python3.9/site-packages/imblearn/utils/__init__.py:7\u001b[0m, in \u001b[0;36m<module>\u001b[0;34m\u001b[0m\n\u001b[1;32m      1\u001b[0m \u001b[38;5;124;03m\"\"\"\u001b[39;00m\n\u001b[1;32m      2\u001b[0m \u001b[38;5;124;03mThe :mod:`imblearn.utils` module includes various utilities.\u001b[39;00m\n\u001b[1;32m      3\u001b[0m \u001b[38;5;124;03m\"\"\"\u001b[39;00m\n\u001b[1;32m      5\u001b[0m \u001b[38;5;28;01mfrom\u001b[39;00m \u001b[38;5;21;01m.\u001b[39;00m\u001b[38;5;21;01m_docstring\u001b[39;00m \u001b[38;5;28;01mimport\u001b[39;00m Substitution\n\u001b[0;32m----> 7\u001b[0m \u001b[38;5;28;01mfrom\u001b[39;00m \u001b[38;5;21;01m.\u001b[39;00m\u001b[38;5;21;01m_validation\u001b[39;00m \u001b[38;5;28;01mimport\u001b[39;00m check_neighbors_object\n\u001b[1;32m      8\u001b[0m \u001b[38;5;28;01mfrom\u001b[39;00m \u001b[38;5;21;01m.\u001b[39;00m\u001b[38;5;21;01m_validation\u001b[39;00m \u001b[38;5;28;01mimport\u001b[39;00m check_target_type\n\u001b[1;32m      9\u001b[0m \u001b[38;5;28;01mfrom\u001b[39;00m \u001b[38;5;21;01m.\u001b[39;00m\u001b[38;5;21;01m_validation\u001b[39;00m \u001b[38;5;28;01mimport\u001b[39;00m check_sampling_strategy\n",
      "File \u001b[0;32m~/opt/anaconda3/lib/python3.9/site-packages/imblearn/utils/_validation.py:15\u001b[0m, in \u001b[0;36m<module>\u001b[0;34m\u001b[0m\n\u001b[1;32m     12\u001b[0m \u001b[38;5;28;01mimport\u001b[39;00m \u001b[38;5;21;01mnumpy\u001b[39;00m \u001b[38;5;28;01mas\u001b[39;00m \u001b[38;5;21;01mnp\u001b[39;00m\n\u001b[1;32m     14\u001b[0m \u001b[38;5;28;01mfrom\u001b[39;00m \u001b[38;5;21;01msklearn\u001b[39;00m\u001b[38;5;21;01m.\u001b[39;00m\u001b[38;5;21;01mbase\u001b[39;00m \u001b[38;5;28;01mimport\u001b[39;00m clone\n\u001b[0;32m---> 15\u001b[0m \u001b[38;5;28;01mfrom\u001b[39;00m \u001b[38;5;21;01msklearn\u001b[39;00m\u001b[38;5;21;01m.\u001b[39;00m\u001b[38;5;21;01mneighbors\u001b[39;00m\u001b[38;5;21;01m.\u001b[39;00m\u001b[38;5;21;01m_base\u001b[39;00m \u001b[38;5;28;01mimport\u001b[39;00m KNeighborsMixin\n\u001b[1;32m     16\u001b[0m \u001b[38;5;28;01mfrom\u001b[39;00m \u001b[38;5;21;01msklearn\u001b[39;00m\u001b[38;5;21;01m.\u001b[39;00m\u001b[38;5;21;01mneighbors\u001b[39;00m \u001b[38;5;28;01mimport\u001b[39;00m NearestNeighbors\n\u001b[1;32m     17\u001b[0m \u001b[38;5;28;01mfrom\u001b[39;00m \u001b[38;5;21;01msklearn\u001b[39;00m\u001b[38;5;21;01m.\u001b[39;00m\u001b[38;5;21;01mutils\u001b[39;00m \u001b[38;5;28;01mimport\u001b[39;00m column_or_1d\n",
      "File \u001b[0;32m~/opt/anaconda3/lib/python3.9/site-packages/sklearn/neighbors/__init__.py:8\u001b[0m, in \u001b[0;36m<module>\u001b[0;34m\u001b[0m\n\u001b[1;32m      6\u001b[0m \u001b[38;5;28;01mfrom\u001b[39;00m \u001b[38;5;21;01m.\u001b[39;00m\u001b[38;5;21;01m_ball_tree\u001b[39;00m \u001b[38;5;28;01mimport\u001b[39;00m BallTree\n\u001b[1;32m      7\u001b[0m \u001b[38;5;28;01mfrom\u001b[39;00m \u001b[38;5;21;01m.\u001b[39;00m\u001b[38;5;21;01m_kd_tree\u001b[39;00m \u001b[38;5;28;01mimport\u001b[39;00m KDTree\n\u001b[0;32m----> 8\u001b[0m \u001b[38;5;28;01mfrom\u001b[39;00m \u001b[38;5;21;01m.\u001b[39;00m\u001b[38;5;21;01m_distance_metric\u001b[39;00m \u001b[38;5;28;01mimport\u001b[39;00m DistanceMetric\n\u001b[1;32m      9\u001b[0m \u001b[38;5;28;01mfrom\u001b[39;00m \u001b[38;5;21;01m.\u001b[39;00m\u001b[38;5;21;01m_graph\u001b[39;00m \u001b[38;5;28;01mimport\u001b[39;00m kneighbors_graph, radius_neighbors_graph\n\u001b[1;32m     10\u001b[0m \u001b[38;5;28;01mfrom\u001b[39;00m \u001b[38;5;21;01m.\u001b[39;00m\u001b[38;5;21;01m_graph\u001b[39;00m \u001b[38;5;28;01mimport\u001b[39;00m KNeighborsTransformer, RadiusNeighborsTransformer\n",
      "File \u001b[0;32m~/opt/anaconda3/lib/python3.9/site-packages/sklearn/neighbors/_distance_metric.py:4\u001b[0m, in \u001b[0;36m<module>\u001b[0;34m\u001b[0m\n\u001b[1;32m      1\u001b[0m \u001b[38;5;66;03m# TODO: Remove this file in 1.3\u001b[39;00m\n\u001b[1;32m      2\u001b[0m \u001b[38;5;28;01mimport\u001b[39;00m \u001b[38;5;21;01mwarnings\u001b[39;00m\n\u001b[0;32m----> 4\u001b[0m \u001b[38;5;28;01mfrom\u001b[39;00m \u001b[38;5;21;01m.\u001b[39;00m\u001b[38;5;21;01m.\u001b[39;00m\u001b[38;5;21;01mmetrics\u001b[39;00m \u001b[38;5;28;01mimport\u001b[39;00m DistanceMetric \u001b[38;5;28;01mas\u001b[39;00m _DistanceMetric\n\u001b[1;32m      7\u001b[0m \u001b[38;5;28;01mclass\u001b[39;00m \u001b[38;5;21;01mDistanceMetric\u001b[39;00m(_DistanceMetric):\n\u001b[1;32m      8\u001b[0m     \u001b[38;5;129m@classmethod\u001b[39m\n\u001b[1;32m      9\u001b[0m     \u001b[38;5;28;01mdef\u001b[39;00m \u001b[38;5;21m_warn\u001b[39m(\u001b[38;5;28mcls\u001b[39m):\n",
      "File \u001b[0;32m~/opt/anaconda3/lib/python3.9/site-packages/sklearn/metrics/__init__.py:41\u001b[0m, in \u001b[0;36m<module>\u001b[0;34m\u001b[0m\n\u001b[1;32m     37\u001b[0m \u001b[38;5;28;01mfrom\u001b[39;00m \u001b[38;5;21;01m.\u001b[39;00m\u001b[38;5;21;01m_classification\u001b[39;00m \u001b[38;5;28;01mimport\u001b[39;00m multilabel_confusion_matrix\n\u001b[1;32m     39\u001b[0m \u001b[38;5;28;01mfrom\u001b[39;00m \u001b[38;5;21;01m.\u001b[39;00m\u001b[38;5;21;01m_dist_metrics\u001b[39;00m \u001b[38;5;28;01mimport\u001b[39;00m DistanceMetric\n\u001b[0;32m---> 41\u001b[0m \u001b[38;5;28;01mfrom\u001b[39;00m \u001b[38;5;21;01m.\u001b[39;00m \u001b[38;5;28;01mimport\u001b[39;00m cluster\n\u001b[1;32m     42\u001b[0m \u001b[38;5;28;01mfrom\u001b[39;00m \u001b[38;5;21;01m.\u001b[39;00m\u001b[38;5;21;01mcluster\u001b[39;00m \u001b[38;5;28;01mimport\u001b[39;00m adjusted_mutual_info_score\n\u001b[1;32m     43\u001b[0m \u001b[38;5;28;01mfrom\u001b[39;00m \u001b[38;5;21;01m.\u001b[39;00m\u001b[38;5;21;01mcluster\u001b[39;00m \u001b[38;5;28;01mimport\u001b[39;00m adjusted_rand_score\n",
      "File \u001b[0;32m~/opt/anaconda3/lib/python3.9/site-packages/sklearn/metrics/cluster/__init__.py:22\u001b[0m, in \u001b[0;36m<module>\u001b[0;34m\u001b[0m\n\u001b[1;32m     20\u001b[0m \u001b[38;5;28;01mfrom\u001b[39;00m \u001b[38;5;21;01m.\u001b[39;00m\u001b[38;5;21;01m_supervised\u001b[39;00m \u001b[38;5;28;01mimport\u001b[39;00m fowlkes_mallows_score\n\u001b[1;32m     21\u001b[0m \u001b[38;5;28;01mfrom\u001b[39;00m \u001b[38;5;21;01m.\u001b[39;00m\u001b[38;5;21;01m_supervised\u001b[39;00m \u001b[38;5;28;01mimport\u001b[39;00m entropy\n\u001b[0;32m---> 22\u001b[0m \u001b[38;5;28;01mfrom\u001b[39;00m \u001b[38;5;21;01m.\u001b[39;00m\u001b[38;5;21;01m_unsupervised\u001b[39;00m \u001b[38;5;28;01mimport\u001b[39;00m silhouette_samples\n\u001b[1;32m     23\u001b[0m \u001b[38;5;28;01mfrom\u001b[39;00m \u001b[38;5;21;01m.\u001b[39;00m\u001b[38;5;21;01m_unsupervised\u001b[39;00m \u001b[38;5;28;01mimport\u001b[39;00m silhouette_score\n\u001b[1;32m     24\u001b[0m \u001b[38;5;28;01mfrom\u001b[39;00m \u001b[38;5;21;01m.\u001b[39;00m\u001b[38;5;21;01m_unsupervised\u001b[39;00m \u001b[38;5;28;01mimport\u001b[39;00m calinski_harabasz_score\n",
      "File \u001b[0;32m~/opt/anaconda3/lib/python3.9/site-packages/sklearn/metrics/cluster/_unsupervised.py:16\u001b[0m, in \u001b[0;36m<module>\u001b[0;34m\u001b[0m\n\u001b[1;32m     14\u001b[0m \u001b[38;5;28;01mfrom\u001b[39;00m \u001b[38;5;21;01m.\u001b[39;00m\u001b[38;5;21;01m.\u001b[39;00m\u001b[38;5;21;01m.\u001b[39;00m\u001b[38;5;21;01mutils\u001b[39;00m \u001b[38;5;28;01mimport\u001b[39;00m check_X_y\n\u001b[1;32m     15\u001b[0m \u001b[38;5;28;01mfrom\u001b[39;00m \u001b[38;5;21;01m.\u001b[39;00m\u001b[38;5;21;01m.\u001b[39;00m\u001b[38;5;21;01m.\u001b[39;00m\u001b[38;5;21;01mutils\u001b[39;00m \u001b[38;5;28;01mimport\u001b[39;00m _safe_indexing\n\u001b[0;32m---> 16\u001b[0m \u001b[38;5;28;01mfrom\u001b[39;00m \u001b[38;5;21;01m.\u001b[39;00m\u001b[38;5;21;01m.\u001b[39;00m\u001b[38;5;21;01mpairwise\u001b[39;00m \u001b[38;5;28;01mimport\u001b[39;00m pairwise_distances_chunked\n\u001b[1;32m     17\u001b[0m \u001b[38;5;28;01mfrom\u001b[39;00m \u001b[38;5;21;01m.\u001b[39;00m\u001b[38;5;21;01m.\u001b[39;00m\u001b[38;5;21;01mpairwise\u001b[39;00m \u001b[38;5;28;01mimport\u001b[39;00m pairwise_distances\n\u001b[1;32m     18\u001b[0m \u001b[38;5;28;01mfrom\u001b[39;00m \u001b[38;5;21;01m.\u001b[39;00m\u001b[38;5;21;01m.\u001b[39;00m\u001b[38;5;21;01m.\u001b[39;00m\u001b[38;5;21;01mpreprocessing\u001b[39;00m \u001b[38;5;28;01mimport\u001b[39;00m LabelEncoder\n",
      "File \u001b[0;32m~/opt/anaconda3/lib/python3.9/site-packages/sklearn/metrics/pairwise.py:33\u001b[0m, in \u001b[0;36m<module>\u001b[0;34m\u001b[0m\n\u001b[1;32m     30\u001b[0m \u001b[38;5;28;01mfrom\u001b[39;00m \u001b[38;5;21;01m.\u001b[39;00m\u001b[38;5;21;01m.\u001b[39;00m\u001b[38;5;21;01mutils\u001b[39;00m\u001b[38;5;21;01m.\u001b[39;00m\u001b[38;5;21;01mfixes\u001b[39;00m \u001b[38;5;28;01mimport\u001b[39;00m delayed\n\u001b[1;32m     31\u001b[0m \u001b[38;5;28;01mfrom\u001b[39;00m \u001b[38;5;21;01m.\u001b[39;00m\u001b[38;5;21;01m.\u001b[39;00m\u001b[38;5;21;01mutils\u001b[39;00m\u001b[38;5;21;01m.\u001b[39;00m\u001b[38;5;21;01mfixes\u001b[39;00m \u001b[38;5;28;01mimport\u001b[39;00m sp_version, parse_version\n\u001b[0;32m---> 33\u001b[0m \u001b[38;5;28;01mfrom\u001b[39;00m \u001b[38;5;21;01m.\u001b[39;00m\u001b[38;5;21;01m_pairwise_distances_reduction\u001b[39;00m \u001b[38;5;28;01mimport\u001b[39;00m PairwiseDistancesArgKmin\n\u001b[1;32m     34\u001b[0m \u001b[38;5;28;01mfrom\u001b[39;00m \u001b[38;5;21;01m.\u001b[39;00m\u001b[38;5;21;01m_pairwise_fast\u001b[39;00m \u001b[38;5;28;01mimport\u001b[39;00m _chi2_kernel_fast, _sparse_manhattan\n\u001b[1;32m     35\u001b[0m \u001b[38;5;28;01mfrom\u001b[39;00m \u001b[38;5;21;01m.\u001b[39;00m\u001b[38;5;21;01m.\u001b[39;00m\u001b[38;5;21;01mexceptions\u001b[39;00m \u001b[38;5;28;01mimport\u001b[39;00m DataConversionWarning\n",
      "File \u001b[0;32msklearn/metrics/_pairwise_distances_reduction.pyx:1\u001b[0m, in \u001b[0;36minit sklearn.metrics._pairwise_distances_reduction\u001b[0;34m()\u001b[0m\n",
      "\u001b[0;31mAttributeError\u001b[0m: module 'sklearn.utils._openmp_helpers' has no attribute '__pyx_capi__'"
     ]
    }
   ],
   "source": [
    "# ! pip install imblearn\n",
    "from sklearn.datasets import make_classification\n",
    "from imblearn.over_sampling import SMOTE \n",
    "\n",
    "sm = SMOTE(random_state=42)\n",
    "X_sm, y_sm = sm.fit_resample(X, y)\n",
    "print(f'''Shape of X before SMOTE: {X.shape}\n",
    "Shape of X after SMOTE: {X_sm.shape}''')\n",
    "print('\\nBalance of positive and negative classes (%):')\n",
    "y_sm = pd.DataFrame(y_sm)\n",
    "X_sm = pd.DataFrame(X_sm) \n",
    "y_sm.value_counts(normalize=True)*100\n",
    "# y_sm.value_counts(normalize=True) * 100"
   ]
  },
  {
   "cell_type": "code",
   "execution_count": null,
   "id": "naked-concord",
   "metadata": {
    "colab": {
     "base_uri": "https://localhost:8080/"
    },
    "id": "naked-concord",
    "outputId": "e4546fbe-bec9-4f8f-bf2b-29ecffbc4fc3"
   },
   "outputs": [
    {
     "data": {
      "text/plain": [
       "Index(['Agency', 'Agency_Type', 'Distribution_Channel', 'Product_Name',\n",
       "       'Duration', 'Destination', 'Net_Sales', 'Commision_in_value', 'Age'],\n",
       "      dtype='object')"
      ]
     },
     "execution_count": 43,
     "metadata": {},
     "output_type": "execute_result"
    }
   ],
   "source": [
    "X_sm.columns"
   ]
  },
  {
   "cell_type": "code",
   "execution_count": null,
   "id": "operating-romance",
   "metadata": {
    "id": "operating-romance"
   },
   "outputs": [],
   "source": [
    "from sklearn.model_selection import train_test_split   \n",
    "X_train, X_test, y_train, y_test = train_test_split(X_sm, y_sm, test_size=0.35, random_state=40)"
   ]
  },
  {
   "cell_type": "markdown",
   "id": "compliant-perception",
   "metadata": {
    "id": "compliant-perception"
   },
   "source": [
    "#### 1) 로지스틱 회귀"
   ]
  },
  {
   "cell_type": "code",
   "execution_count": null,
   "id": "acute-chemical",
   "metadata": {
    "id": "acute-chemical"
   },
   "outputs": [],
   "source": [
    "from sklearn.metrics import accuracy_score, recall_score, confusion_matrix\n",
    "from sklearn.metrics import f1_score"
   ]
  },
  {
   "cell_type": "code",
   "execution_count": null,
   "id": "brazilian-belfast",
   "metadata": {
    "id": "brazilian-belfast"
   },
   "outputs": [],
   "source": [
    "from sklearn.linear_model import LogisticRegression\n",
    "\n",
    "clf = LogisticRegression(random_state=0).fit(X_train, y_train)\n",
    "y_predict = clf.predict(X_test)"
   ]
  },
  {
   "cell_type": "code",
   "execution_count": null,
   "id": "danish-airfare",
   "metadata": {
    "colab": {
     "base_uri": "https://localhost:8080/"
    },
    "id": "danish-airfare",
    "outputId": "f1914683-c90e-4cc6-aa47-f2e5d18d3627"
   },
   "outputs": [
    {
     "data": {
      "text/plain": [
       "0.7657363347222564"
      ]
     },
     "execution_count": 52,
     "metadata": {},
     "output_type": "execute_result"
    }
   ],
   "source": [
    "clf.score(X_train, y_train)"
   ]
  },
  {
   "cell_type": "code",
   "execution_count": null,
   "id": "protecting-class",
   "metadata": {
    "colab": {
     "base_uri": "https://localhost:8080/"
    },
    "id": "protecting-class",
    "outputId": "36028918-23a3-499a-8718-c5943b4e0df6"
   },
   "outputs": [
    {
     "data": {
      "text/plain": [
       "0.7643543956043956"
      ]
     },
     "execution_count": 53,
     "metadata": {},
     "output_type": "execute_result"
    }
   ],
   "source": [
    "clf.score(X_test, y_test)"
   ]
  },
  {
   "cell_type": "code",
   "execution_count": null,
   "id": "subject-outside",
   "metadata": {
    "id": "subject-outside"
   },
   "outputs": [],
   "source": []
  },
  {
   "cell_type": "code",
   "execution_count": null,
   "id": "bound-finder",
   "metadata": {
    "colab": {
     "base_uri": "https://localhost:8080/",
     "height": 445
    },
    "id": "bound-finder",
    "outputId": "97621eff-7297-44cb-86c3-291f54afc305"
   },
   "outputs": [
    {
     "name": "stdout",
     "output_type": "stream",
     "text": [
      "Accuracy = 0.76\n",
      "Recall = 0.68\n",
      "\n"
     ]
    },
    {
     "data": {
      "image/png": "[encoded data removed]",
      "text/plain": [
       "<Figure size 576x432 with 2 Axes>"
      ]
     },
     "metadata": {
      "needs_background": "light"
     },
     "output_type": "display_data"
    }
   ],
   "source": [
    "print(f'Accuracy = {accuracy_score(y_test, y_predict):.2f}\\nRecall = {recall_score(y_test, y_predict):.2f}\\n')\n",
    "cm = confusion_matrix(y_test, y_predict)\n",
    "plt.figure(figsize=(8, 6))\n",
    "plt.title('Confusion Matrix', size=16)\n",
    "sns.heatmap(cm, annot=True, cmap='Blues');"
   ]
  },
  {
   "cell_type": "code",
   "execution_count": null,
   "id": "bound-accuracy",
   "metadata": {
    "colab": {
     "base_uri": "https://localhost:8080/"
    },
    "id": "bound-accuracy",
    "outputId": "f66de409-e3c7-47dc-94ae-edc9d28f10d4"
   },
   "outputs": [
    {
     "data": {
      "text/plain": [
       "0.7629204923480837"
      ]
     },
     "execution_count": 55,
     "metadata": {},
     "output_type": "execute_result"
    }
   ],
   "source": [
    "# f1 score가 79%로 매우 높음 -> 분류를 매우 잘함을 알 수 있다. \n",
    "f1_score(y_test, y_predict, average='macro')"
   ]
  },
  {
   "cell_type": "code",
   "execution_count": null,
   "id": "criminal-railway",
   "metadata": {
    "id": "criminal-railway"
   },
   "outputs": [],
   "source": []
  },
  {
   "cell_type": "code",
   "execution_count": null,
   "id": "incorrect-collaboration",
   "metadata": {
    "id": "incorrect-collaboration"
   },
   "outputs": [],
   "source": [
    "from sklearn.model_selection import cross_validate\n",
    "cv_results = cross_validate(clf, X_train, y_train, cv=10)"
   ]
  },
  {
   "cell_type": "code",
   "execution_count": null,
   "id": "tracked-halloween",
   "metadata": {
    "colab": {
     "base_uri": "https://localhost:8080/"
    },
    "id": "tracked-halloween",
    "outputId": "a398242f-ffaf-4128-ca74-a98610c068f4"
   },
   "outputs": [
    {
     "data": {
      "text/plain": [
       "array([0.75456114, 0.76565582, 0.76923077, 0.76442308, 0.76627219,\n",
       "       0.76577909, 0.76084813, 0.77157298, 0.7647639 , 0.77302429])"
      ]
     },
     "execution_count": 57,
     "metadata": {},
     "output_type": "execute_result"
    }
   ],
   "source": [
    "cv_results['test_score']"
   ]
  },
  {
   "cell_type": "markdown",
   "id": "roman-arkansas",
   "metadata": {
    "id": "roman-arkansas"
   },
   "source": [
    "## 2)랜덤포레스트"
   ]
  },
  {
   "cell_type": "code",
   "execution_count": null,
   "id": "electoral-steam",
   "metadata": {
    "id": "electoral-steam"
   },
   "outputs": [],
   "source": [
    "from sklearn.ensemble import RandomForestClassifier"
   ]
  },
  {
   "cell_type": "code",
   "execution_count": null,
   "id": "tender-commissioner",
   "metadata": {
    "colab": {
     "base_uri": "https://localhost:8080/"
    },
    "id": "tender-commissioner",
    "outputId": "39981fc0-94fe-474d-e69a-367ae9089458"
   },
   "outputs": [
    {
     "data": {
      "text/plain": [
       "RandomForestClassifier(random_state=42)"
      ]
     },
     "execution_count": 59,
     "metadata": {},
     "output_type": "execute_result"
    }
   ],
   "source": [
    "rf = RandomForestClassifier(random_state=42)\n",
    "rf.fit(X_train, y_train)"
   ]
  },
  {
   "cell_type": "code",
   "execution_count": null,
   "id": "working-narrow",
   "metadata": {
    "colab": {
     "base_uri": "https://localhost:8080/"
    },
    "id": "working-narrow",
    "outputId": "8761cbde-1c21-4223-e9f6-e3e6433dadb5"
   },
   "outputs": [
    {
     "data": {
      "text/plain": [
       "0.9944895091101852"
      ]
     },
     "execution_count": 60,
     "metadata": {},
     "output_type": "execute_result"
    }
   ],
   "source": [
    "rf.score(X_train, y_train)"
   ]
  },
  {
   "cell_type": "code",
   "execution_count": null,
   "id": "threatened-makeup",
   "metadata": {
    "colab": {
     "base_uri": "https://localhost:8080/"
    },
    "id": "threatened-makeup",
    "outputId": "310140ee-fa17-43e1-e3df-51b1e86223cb"
   },
   "outputs": [
    {
     "data": {
      "text/plain": [
       "0.9703754578754579"
      ]
     },
     "execution_count": 61,
     "metadata": {},
     "output_type": "execute_result"
    }
   ],
   "source": [
    "rf.score(X_test, y_test)"
   ]
  },
  {
   "cell_type": "code",
   "execution_count": null,
   "id": "regional-comfort",
   "metadata": {
    "id": "regional-comfort"
   },
   "outputs": [],
   "source": [
    "y_predict = rf.predict(X_test)"
   ]
  },
  {
   "cell_type": "code",
   "execution_count": null,
   "id": "numerical-giving",
   "metadata": {
    "colab": {
     "base_uri": "https://localhost:8080/",
     "height": 445
    },
    "id": "numerical-giving",
    "outputId": "86dbc31d-4ce0-4fed-90c7-595050754a13"
   },
   "outputs": [
    {
     "name": "stdout",
     "output_type": "stream",
     "text": [
      "Accuracy = 0.97\n",
      "Recall = 0.98\n",
      "\n"
     ]
    },
    {
     "data": {
      "image/png": "[encoded data removed]",
      "text/plain": [
       "<Figure size 576x432 with 2 Axes>"
      ]
     },
     "metadata": {
      "needs_background": "light"
     },
     "output_type": "display_data"
    }
   ],
   "source": [
    "print(f'Accuracy = {accuracy_score(y_test, y_predict):.2f}\\nRecall = {recall_score(y_test, y_predict):.2f}\\n')\n",
    "cm = confusion_matrix(y_test, y_predict)\n",
    "plt.figure(figsize=(8, 6))\n",
    "plt.title('Confusion Matrix', size=16)\n",
    "sns.heatmap(cm, annot=True, cmap='Blues');"
   ]
  },
  {
   "cell_type": "code",
   "execution_count": null,
   "id": "informal-quarterly",
   "metadata": {
    "colab": {
     "base_uri": "https://localhost:8080/"
    },
    "id": "informal-quarterly",
    "outputId": "62175554-bff5-4bc4-f042-7e568bc9b958"
   },
   "outputs": [
    {
     "data": {
      "text/plain": [
       "0.9703678477114293"
      ]
     },
     "execution_count": 64,
     "metadata": {},
     "output_type": "execute_result"
    }
   ],
   "source": [
    "# f1 score가 97%로 매우 높음 -> 분류를 매우 잘함을 알 수 있다. \n",
    "f1_score(y_test, y_predict, average='macro')"
   ]
  },
  {
   "cell_type": "markdown",
   "id": "serial-terrorist",
   "metadata": {
    "id": "serial-terrorist"
   },
   "source": [
    "# 랜덤포레스트가 f1 score 97%로 가장 좋은 성능을 보임을 알 수 있다"
   ]
  }
 ],
 "metadata": {
  "colab": {
   "collapsed_sections": [
    "forbidden-branch",
    "bulgarian-yacht",
    "parental-officer",
    "manufactured-adoption",
    "compliant-perception",
    "roman-arkansas"
   ],
   "provenance": []
  },
  "kernelspec": {
   "display_name": "Python 3 (ipykernel)",
   "language": "python",
   "name": "python3"
  },
  "language_info": {
   "codemirror_mode": {
    "name": "ipython",
    "version": 3
   },
   "file_extension": ".py",
   "mimetype": "text/x-python",
   "name": "python",
   "nbconvert_exporter": "python",
   "pygments_lexer": "ipython3",
   "version": "3.9.12"
  },
  "toc": {
   "base_numbering": 1,
   "nav_menu": {},
   "number_sections": true,
   "sideBar": true,
   "skip_h1_title": false,
   "title_cell": "Table of Contents",
   "title_sidebar": "Contents",
   "toc_cell": false,
   "toc_position": {},
   "toc_section_display": true,
   "toc_window_display": false
  },
  "varInspector": {
   "cols": {
    "lenName": 16,
    "lenType": 16,
    "lenVar": 40
   },
   "kernels_config": {
    "python": {
     "delete_cmd_postfix": "",
     "delete_cmd_prefix": "del ",
     "library": "var_list.py",
     "varRefreshCmd": "print(var_dic_list())"
    },
    "r": {
     "delete_cmd_postfix": ") ",
     "delete_cmd_prefix": "rm(",
     "library": "var_list.r",
     "varRefreshCmd": "cat(var_dic_list()) "
    }
   },
   "types_to_exclude": [
    "module",
    "function",
    "builtin_function_or_method",
    "instance",
    "_Feature"
   ],
   "window_display": false
  }
 },
 "nbformat": 4,
 "nbformat_minor": 5
}
