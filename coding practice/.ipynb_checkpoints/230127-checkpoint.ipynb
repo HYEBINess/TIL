{
 "cells": [
  {
   "cell_type": "markdown",
   "id": "69366e3b",
   "metadata": {},
   "source": [
    "# import time\n",
    "* list와 tuple의 순회속도 비교"
   ]
  },
  {
   "cell_type": "code",
   "execution_count": 1,
   "id": "269b19b1",
   "metadata": {},
   "outputs": [],
   "source": [
    "large_L = list(range(10000))\n",
    "large_T = tuple(range(10000))"
   ]
  },
  {
   "cell_type": "code",
   "execution_count": 4,
   "id": "da78e686",
   "metadata": {},
   "outputs": [
    {
     "name": "stdout",
     "output_type": "stream",
     "text": [
      "0.0010018348693847656\n"
     ]
    }
   ],
   "source": [
    "import time\n",
    "\n",
    "start_time = time.time()\n",
    "for i in large_L:\n",
    "    pass\n",
    "end_time = time.time()\n",
    "print(end_time - start_time)"
   ]
  },
  {
   "cell_type": "code",
   "execution_count": 5,
   "id": "d0e33509",
   "metadata": {},
   "outputs": [
    {
     "name": "stdout",
     "output_type": "stream",
     "text": [
      "0.0009999275207519531\n"
     ]
    }
   ],
   "source": [
    "start_time = time.time()\n",
    "for i in large_T:\n",
    "    pass\n",
    "end_time = time.time()\n",
    "print(end_time - start_time)"
   ]
  },
  {
   "cell_type": "markdown",
   "id": "480ef5b1",
   "metadata": {},
   "source": [
    "# itertools()"
   ]
  },
  {
   "cell_type": "code",
   "execution_count": 6,
   "id": "885bac8f",
   "metadata": {},
   "outputs": [],
   "source": [
    "import itertools"
   ]
  },
  {
   "cell_type": "markdown",
   "id": "2907b3ef",
   "metadata": {},
   "source": [
    "## itertools.product(*L)"
   ]
  },
  {
   "cell_type": "code",
   "execution_count": 8,
   "id": "bed4eed4",
   "metadata": {},
   "outputs": [
    {
     "name": "stdout",
     "output_type": "stream",
     "text": [
      "0 0 0\n",
      "0 0 1\n",
      "0 0 2\n",
      "0 1 0\n",
      "0 1 1\n",
      "0 1 2\n",
      "0 2 0\n",
      "0 2 1\n",
      "0 2 2\n",
      "1 0 0\n",
      "1 0 1\n",
      "1 0 2\n",
      "1 1 0\n",
      "1 1 1\n",
      "1 1 2\n",
      "1 2 0\n",
      "1 2 1\n",
      "1 2 2\n",
      "2 0 0\n",
      "2 0 1\n",
      "2 0 2\n",
      "2 1 0\n",
      "2 1 1\n",
      "2 1 2\n",
      "2 2 0\n",
      "2 2 1\n",
      "2 2 2\n"
     ]
    }
   ],
   "source": [
    "count = 0\n",
    "for a, b, c in itertools.product(range(3), range(3), range(3)):\n",
    "    print(a,b,c)\n"
   ]
  },
  {
   "cell_type": "markdown",
   "id": "b5b831a0",
   "metadata": {},
   "source": [
    "zip()과는 다름"
   ]
  },
  {
   "cell_type": "code",
   "execution_count": 9,
   "id": "64651d16",
   "metadata": {},
   "outputs": [
    {
     "name": "stdout",
     "output_type": "stream",
     "text": [
      "0 0 0\n",
      "1 1 1\n",
      "2 2 2\n"
     ]
    }
   ],
   "source": [
    "for a,b,c in zip(range(3), range(3), range(3)):\n",
    "    print(a, b, c)"
   ]
  },
  {
   "cell_type": "markdown",
   "id": "62e0d671",
   "metadata": {},
   "source": [
    "## itertools.combination(input, 조합의 개수)"
   ]
  },
  {
   "cell_type": "code",
   "execution_count": 10,
   "id": "a1e04d8a",
   "metadata": {},
   "outputs": [
    {
     "name": "stdout",
     "output_type": "stream",
     "text": [
      "('a', 'b', 'c')\n",
      "('a', 'b', 'd')\n",
      "('a', 'c', 'd')\n",
      "('b', 'c', 'd')\n"
     ]
    }
   ],
   "source": [
    "L = ['a', 'b', 'c', 'd']\n",
    "\n",
    "for com in itertools.combinations(L, 3):\n",
    "    print(com)"
   ]
  },
  {
   "cell_type": "code",
   "execution_count": 11,
   "id": "0ac3d810",
   "metadata": {},
   "outputs": [
    {
     "name": "stdout",
     "output_type": "stream",
     "text": [
      "('a',)\n",
      "('b',)\n",
      "('c',)\n",
      "('d',)\n",
      "('a', 'b')\n",
      "('a', 'c')\n",
      "('a', 'd')\n",
      "('b', 'c')\n",
      "('b', 'd')\n",
      "('c', 'd')\n",
      "('a', 'b', 'c')\n",
      "('a', 'b', 'd')\n",
      "('a', 'c', 'd')\n",
      "('b', 'c', 'd')\n",
      "('a', 'b', 'c', 'd')\n"
     ]
    }
   ],
   "source": [
    "# 전체 조합의 개수\n",
    "for i in range(len(L)):\n",
    "    for com in itertools.combinations(L, i+1):\n",
    "        print(com)"
   ]
  },
  {
   "cell_type": "markdown",
   "id": "a123112b",
   "metadata": {},
   "source": [
    "## itertools.permutation(input, 순열의 개수)"
   ]
  },
  {
   "cell_type": "code",
   "execution_count": 12,
   "id": "6a735793",
   "metadata": {},
   "outputs": [
    {
     "name": "stdout",
     "output_type": "stream",
     "text": [
      "('a', 'b')\n",
      "('a', 'c')\n",
      "('a', 'd')\n",
      "('b', 'a')\n",
      "('b', 'c')\n",
      "('b', 'd')\n",
      "('c', 'a')\n",
      "('c', 'b')\n",
      "('c', 'd')\n",
      "('d', 'a')\n",
      "('d', 'b')\n",
      "('d', 'c')\n"
     ]
    }
   ],
   "source": [
    "for comb in itertools.permutations(L, 2):\n",
    "    print(comb)"
   ]
  },
  {
   "cell_type": "code",
   "execution_count": 13,
   "id": "becba4c1",
   "metadata": {},
   "outputs": [
    {
     "name": "stdout",
     "output_type": "stream",
     "text": [
      "('a',)\n",
      "('b',)\n",
      "('c',)\n",
      "('d',)\n",
      "('a', 'b')\n",
      "('a', 'c')\n",
      "('a', 'd')\n",
      "('b', 'a')\n",
      "('b', 'c')\n",
      "('b', 'd')\n",
      "('c', 'a')\n",
      "('c', 'b')\n",
      "('c', 'd')\n",
      "('d', 'a')\n",
      "('d', 'b')\n",
      "('d', 'c')\n",
      "('a', 'b', 'c')\n",
      "('a', 'b', 'd')\n",
      "('a', 'c', 'b')\n",
      "('a', 'c', 'd')\n",
      "('a', 'd', 'b')\n",
      "('a', 'd', 'c')\n",
      "('b', 'a', 'c')\n",
      "('b', 'a', 'd')\n",
      "('b', 'c', 'a')\n",
      "('b', 'c', 'd')\n",
      "('b', 'd', 'a')\n",
      "('b', 'd', 'c')\n",
      "('c', 'a', 'b')\n",
      "('c', 'a', 'd')\n",
      "('c', 'b', 'a')\n",
      "('c', 'b', 'd')\n",
      "('c', 'd', 'a')\n",
      "('c', 'd', 'b')\n",
      "('d', 'a', 'b')\n",
      "('d', 'a', 'c')\n",
      "('d', 'b', 'a')\n",
      "('d', 'b', 'c')\n",
      "('d', 'c', 'a')\n",
      "('d', 'c', 'b')\n",
      "('a', 'b', 'c', 'd')\n",
      "('a', 'b', 'd', 'c')\n",
      "('a', 'c', 'b', 'd')\n",
      "('a', 'c', 'd', 'b')\n",
      "('a', 'd', 'b', 'c')\n",
      "('a', 'd', 'c', 'b')\n",
      "('b', 'a', 'c', 'd')\n",
      "('b', 'a', 'd', 'c')\n",
      "('b', 'c', 'a', 'd')\n",
      "('b', 'c', 'd', 'a')\n",
      "('b', 'd', 'a', 'c')\n",
      "('b', 'd', 'c', 'a')\n",
      "('c', 'a', 'b', 'd')\n",
      "('c', 'a', 'd', 'b')\n",
      "('c', 'b', 'a', 'd')\n",
      "('c', 'b', 'd', 'a')\n",
      "('c', 'd', 'a', 'b')\n",
      "('c', 'd', 'b', 'a')\n",
      "('d', 'a', 'b', 'c')\n",
      "('d', 'a', 'c', 'b')\n",
      "('d', 'b', 'a', 'c')\n",
      "('d', 'b', 'c', 'a')\n",
      "('d', 'c', 'a', 'b')\n",
      "('d', 'c', 'b', 'a')\n"
     ]
    }
   ],
   "source": [
    "# 가능한 모든 순열\n",
    "for i in range(len(L)):\n",
    "    for comb in itertools.permutations(L, i+1):\n",
    "        print(comb)"
   ]
  },
  {
   "cell_type": "markdown",
   "id": "60b53e85",
   "metadata": {},
   "source": [
    "# Comprehension"
   ]
  },
  {
   "cell_type": "markdown",
   "id": "b58d20b9",
   "metadata": {},
   "source": [
    "## list comprehension"
   ]
  },
  {
   "cell_type": "code",
   "execution_count": 14,
   "id": "ebc586f3",
   "metadata": {},
   "outputs": [
    {
     "data": {
      "text/plain": [
       "[0, 1, 2, 3, 4, 5, 6, 7, 8, 9]"
      ]
     },
     "execution_count": 14,
     "metadata": {},
     "output_type": "execute_result"
    }
   ],
   "source": [
    "L = [i for i in range(10)]\n",
    "L"
   ]
  },
  {
   "cell_type": "markdown",
   "id": "dff950ca",
   "metadata": {},
   "source": [
    "## dictionary comperhension"
   ]
  },
  {
   "cell_type": "code",
   "execution_count": 15,
   "id": "8ec66d9e",
   "metadata": {},
   "outputs": [
    {
     "name": "stdout",
     "output_type": "stream",
     "text": [
      "{2: 1, 3: 2}\n"
     ]
    }
   ],
   "source": [
    "dic = {1:'Nan', 2: 1, 3: 2, 4:'Nan'}\n",
    "\n",
    "dic1 = {key:val for key,val in dic.items() if val != 'Nan'}\n",
    "print(dic1)"
   ]
  },
  {
   "cell_type": "code",
   "execution_count": 19,
   "id": "bd4ce1f8",
   "metadata": {},
   "outputs": [
    {
     "name": "stdout",
     "output_type": "stream",
     "text": [
      "{2: 1, 3: 2}\n"
     ]
    }
   ],
   "source": [
    "dic2 = dict()\n",
    "for x, y in dic.items():\n",
    "    if y != 'Nan':\n",
    "        dic2[x] = y\n",
    "print(dic2)\n",
    "        "
   ]
  }
 ],
 "metadata": {
  "kernelspec": {
   "display_name": "Python 3 (ipykernel)",
   "language": "python",
   "name": "python3"
  },
  "language_info": {
   "codemirror_mode": {
    "name": "ipython",
    "version": 3
   },
   "file_extension": ".py",
   "mimetype": "text/x-python",
   "name": "python",
   "nbconvert_exporter": "python",
   "pygments_lexer": "ipython3",
   "version": "3.9.12"
  }
 },
 "nbformat": 4,
 "nbformat_minor": 5
}
