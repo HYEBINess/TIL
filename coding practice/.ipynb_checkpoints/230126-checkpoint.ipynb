{
 "cells": [
  {
   "cell_type": "markdown",
   "id": "e3ac9422",
   "metadata": {},
   "source": [
    "# 튜플: 함수의 가변 인자로 사용"
   ]
  },
  {
   "cell_type": "code",
   "execution_count": 1,
   "id": "3ebccb18",
   "metadata": {
    "ExecuteTime": {
     "end_time": "2023-01-26T12:48:12.136501Z",
     "start_time": "2023-01-26T12:48:12.125470Z"
    }
   },
   "outputs": [
    {
     "name": "stdout",
     "output_type": "stream",
     "text": [
      "입력된 데이터 타입:<class 'tuple'>\n",
      "15 120\n"
     ]
    }
   ],
   "source": [
    "def f(*x): # *: 인자수가 정해지지 않았음을 의미\n",
    "    print(f'입력된 데이터 타입:{type(x)}')\n",
    "    sum_x = 0\n",
    "    product_x = 1\n",
    "    for val in x:\n",
    "        sum_x += val\n",
    "        product_x *= val\n",
    "    return sum_x, product_x\n",
    "\n",
    "S, P = f(1, 2, 3, 4, 5)\n",
    "print(S, P)"
   ]
  },
  {
   "cell_type": "markdown",
   "id": "34eb60cf",
   "metadata": {},
   "source": [
    "# Dictionary 순회 예시"
   ]
  },
  {
   "cell_type": "code",
   "execution_count": 11,
   "id": "cd5164b8",
   "metadata": {
    "ExecuteTime": {
     "end_time": "2023-01-26T12:51:49.746252Z",
     "start_time": "2023-01-26T12:51:49.739943Z"
    }
   },
   "outputs": [
    {
     "name": "stdout",
     "output_type": "stream",
     "text": [
      "a 1\n",
      "b 2\n",
      "3 9\n",
      "4 16\n"
     ]
    }
   ],
   "source": [
    "dic = {'a':1, 'b':2, 3:9, 4:16}\n",
    "\n",
    "for key, val in dic.items():\n",
    "    print(key, val)"
   ]
  },
  {
   "cell_type": "markdown",
   "id": "4211bde9",
   "metadata": {},
   "source": [
    "# Dictionary 값 변경 예시"
   ]
  },
  {
   "cell_type": "code",
   "execution_count": 12,
   "id": "d7135bb7",
   "metadata": {
    "ExecuteTime": {
     "end_time": "2023-01-26T12:51:51.495402Z",
     "start_time": "2023-01-26T12:51:51.489506Z"
    }
   },
   "outputs": [
    {
     "name": "stdout",
     "output_type": "stream",
     "text": [
      "{'a': 1, 'b': 2, 3: 9, 4: 16}\n",
      "{'a': 2, 'b': 4, 3: 18, 4: 32}\n"
     ]
    }
   ],
   "source": [
    "print(dic)\n",
    "\n",
    "for key in dic:\n",
    "    dic[key] = dic[key]*2\n",
    "\n",
    "print(dic)"
   ]
  }
 ],
 "metadata": {
  "hide_input": false,
  "kernelspec": {
   "display_name": "Python 3 (ipykernel)",
   "language": "python",
   "name": "python3"
  },
  "language_info": {
   "codemirror_mode": {
    "name": "ipython",
    "version": 3
   },
   "file_extension": ".py",
   "mimetype": "text/x-python",
   "name": "python",
   "nbconvert_exporter": "python",
   "pygments_lexer": "ipython3",
   "version": "3.9.12"
  },
  "toc": {
   "base_numbering": 1,
   "nav_menu": {},
   "number_sections": true,
   "sideBar": true,
   "skip_h1_title": false,
   "title_cell": "Table of Contents",
   "title_sidebar": "Contents",
   "toc_cell": false,
   "toc_position": {},
   "toc_section_display": true,
   "toc_window_display": false
  },
  "varInspector": {
   "cols": {
    "lenName": 16,
    "lenType": 16,
    "lenVar": 40
   },
   "kernels_config": {
    "python": {
     "delete_cmd_postfix": "",
     "delete_cmd_prefix": "del ",
     "library": "var_list.py",
     "varRefreshCmd": "print(var_dic_list())"
    },
    "r": {
     "delete_cmd_postfix": ") ",
     "delete_cmd_prefix": "rm(",
     "library": "var_list.r",
     "varRefreshCmd": "cat(var_dic_list()) "
    }
   },
   "types_to_exclude": [
    "module",
    "function",
    "builtin_function_or_method",
    "instance",
    "_Feature"
   ],
   "window_display": false
  }
 },
 "nbformat": 4,
 "nbformat_minor": 5
}
